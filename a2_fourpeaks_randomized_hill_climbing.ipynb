{
 "cells": [
  {
   "cell_type": "markdown",
   "id": "3e95d094-a0ce-467a-9d50-26308034dd30",
   "metadata": {},
   "source": [
    "# CS 7641 Machine Learning\n",
    "# Assignment 2 Randomized Optimization\n",
    "\n",
    "## Four Peaks : Randomized Hill Climbing"
   ]
  },
  {
   "cell_type": "code",
   "execution_count": 1,
   "id": "e10c2746-8b52-4d0c-8cfa-d18e70788020",
   "metadata": {
    "tags": []
   },
   "outputs": [],
   "source": [
    "import mlrose_hiive\n",
    "import numpy as np\n",
    "import pandas as pd\n",
    "import time\n",
    "import random\n",
    "\n",
    "import matplotlib.pyplot as plt\n",
    "\n",
    "RANDOM_SEED = 27"
   ]
  },
  {
   "cell_type": "code",
   "execution_count": 11,
   "id": "c620aedc-f268-4c0a-b683-db1fa5dbbb25",
   "metadata": {
    "tags": []
   },
   "outputs": [],
   "source": [
    "num_items = 20\n",
    "\n",
    "random.seed(RANDOM_SEED)\n",
    "#weights = [random.randint(1, 10) for _ in range(num_items)]\n",
    "#values = [random.randint(1, 10) for _ in range(num_items)]\n",
    "#print(\"weights: \", weights)\n",
    "#print(\"values: \", values)\n",
    "\n",
    "t_pct = 0.1 # default value: 0.1"
   ]
  },
  {
   "cell_type": "code",
   "execution_count": 12,
   "id": "246a060c-6688-4731-9d53-7db4292ecfda",
   "metadata": {
    "tags": []
   },
   "outputs": [],
   "source": [
    "#fitness = mlrose_hiive.Knapsack(weights, values, max_weight_pct)\n",
    "fitness = mlrose_hiive.FourPeaks(t_pct)\n",
    "num_elements = num_items\n",
    "#problem = mlrose_hiive.DiscreteOpt(length=num_elements, fitness_fn=fitness, maximize=True, max_val=2)\n",
    "problem = mlrose_hiive.DiscreteOpt(length=num_items, fitness_fn=fitness, maximize=True, max_val=2)"
   ]
  },
  {
   "cell_type": "code",
   "execution_count": 13,
   "id": "6fc8b6c6-eac1-4f1a-afdf-2a1f187fdcbf",
   "metadata": {
    "tags": []
   },
   "outputs": [
    {
     "name": "stdout",
     "output_type": "stream",
     "text": [
      "     max_attempts  max_iters  restarts  best_fitness  duration_time\n",
      "0             1.0      200.0       0.0           1.0       0.000447\n",
      "1             1.0      200.0      20.0          26.0       0.000908\n",
      "2             1.0      200.0      40.0          26.0       0.001947\n",
      "3             1.0      200.0      60.0          26.0       0.003577\n",
      "4             1.0      400.0       0.0           1.0       0.000103\n",
      "..            ...        ...       ...           ...            ...\n",
      "155          20.0     1800.0      60.0          35.0       0.009153\n",
      "156          20.0     2000.0       0.0          27.0       0.000300\n",
      "157          20.0     2000.0      20.0          35.0       0.003479\n",
      "158          20.0     2000.0      40.0          35.0       0.006430\n",
      "159          20.0     2000.0      60.0          35.0       0.009076\n",
      "\n",
      "[160 rows x 5 columns]\n",
      "Best Fitness: \n",
      " max_attempts      10.000000\n",
      "max_iters        200.000000\n",
      "restarts          40.000000\n",
      "best_fitness      37.000000\n",
      "duration_time      0.002978\n",
      "Name: 82, dtype: float64\n"
     ]
    }
   ],
   "source": [
    "results_column = [\"max_attempts\", \"max_iters\", \"restarts\", \"best_fitness\", \"duration_time\"]\n",
    "results_list = []\n",
    "results_df = pd.DataFrame(columns=results_column)\n",
    "\n",
    "max_attempts = [ 1, 5, 10, 20]\n",
    "max_iters = [200, 400, 600, 800, 1000, 1200, 1400, 1600, 1800, 2000]\n",
    "restarts = [0, 20, 40, 60]\n",
    "\n",
    "for max_attempt in max_attempts:\n",
    "    for max_iter in max_iters:\n",
    "        for restart in restarts: \n",
    "            start_time = time.perf_counter()\n",
    "            best_state, best_fitness, fitness_curve = mlrose_hiive.random_hill_climb(problem,\n",
    "                                                                                     max_attempts = max_attempt,\n",
    "                                                                                     max_iters = max_iter,\n",
    "                                                                                     restarts = restart,\n",
    "                                                                                     curve = False,\n",
    "                                                                                     random_state=RANDOM_SEED)\n",
    "            duration_time = time.perf_counter() - start_time\n",
    "            results_df.loc[len(results_df.index)] = [max_attempt, max_iter, restart, best_fitness, duration_time]\n",
    "\n",
    "print(results_df)\n",
    "        \n",
    "print(\"Best Fitness: \\n\", results_df.loc[results_df['best_fitness'].idxmax()])        \n",
    "        "
   ]
  },
  {
   "cell_type": "code",
   "execution_count": null,
   "id": "216fff7b-c349-4096-81dc-ef3eeb4c7f25",
   "metadata": {},
   "outputs": [],
   "source": []
  }
 ],
 "metadata": {
  "kernelspec": {
   "display_name": "Python 3 (ipykernel)",
   "language": "python",
   "name": "python3"
  },
  "language_info": {
   "codemirror_mode": {
    "name": "ipython",
    "version": 3
   },
   "file_extension": ".py",
   "mimetype": "text/x-python",
   "name": "python",
   "nbconvert_exporter": "python",
   "pygments_lexer": "ipython3",
   "version": "3.9.18"
  }
 },
 "nbformat": 4,
 "nbformat_minor": 5
}
