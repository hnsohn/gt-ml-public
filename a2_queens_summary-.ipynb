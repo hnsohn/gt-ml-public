{
 "cells": [
  {
   "cell_type": "markdown",
   "id": "3e95d094-a0ce-467a-9d50-26308034dd30",
   "metadata": {},
   "source": [
    "# CS 7641 Machine Learning\n",
    "# Assignment 2 Randomized Optimization\n",
    "\n",
    "## Queens : SUMMARY"
   ]
  },
  {
   "cell_type": "code",
   "execution_count": 2,
   "id": "bf703a30-4892-4101-ae20-e0a7ca928e02",
   "metadata": {
    "tags": []
   },
   "outputs": [
    {
     "data": {
      "text/plain": [
       "'\\nQueens 문제 설명\\nQueens 문제, 특히 N-Queens 문제는 체스판 위에 N개의 퀸을 서로 공격할 수 없는 방식으로 배치하는 문제입니다. 여기서 \"공격할 수 없다\"는 것은 어떤 두 퀸도 같은 행, 열, 또는 대각선 상에 위치하지 않아야 함을 의미합니다. 예를 들어, 8-Queens 문제는 8x8 체스판 위에 8개의 퀸을 배치하는 경우의 수를 찾는 것입니다. 이 문제는 조합 최적화 문제의 일종으로, 컴퓨터 과학에서 알고리즘 설계와 인공지능의 전형적인 테스트 케이스로 사용됩니다.\\n\\n알고리즘 비교\\n1. 랜덤화 힐 클라이밍 (Randomized Hill Climbing)\\n효율성: 랜덤화 힐 클라이밍은 지역 최적해에 쉽게 갇힐 수 있기 때문에, N-Queens 문제 같은 복잡한 탐색 공간에서는 비효율적일 수 있습니다. 초기 해에서부터 점진적으로 개선해 나가는 방식은 간단한 문제에서는 잘 작동하지만, N-Queens 문제의 크기가 커질수록 더 많은 지역 최적해에 갇힐 가능성이 커집니다.\\n2. 시뮬레이티드 어닐링 (Simulated Annealing)\\n효율성: 시뮬레이티드 어닐링은 초기에는 탐색 공간을 넓게 탐색하고 점차 탐색 범위를 좁혀가며 해를 개선해 나가는 전략을 사용합니다. 이 접근법은 N-Queens 문제에서 지역 최적해를 탈출하고 보다 나은 해를 찾는 데 유용할 수 있습니다. 냉각 일정을 적절히 설정한다면, 상대적으로 높은 효율성을 보일 수 있습니다.\\n3. 유전 알고리즘 (Genetic Algorithm)\\n효율성: 유전 알고리즘은 해의 다양성을 유지하면서 복잡한 탐색 공간을 효과적으로 탐색할 수 있는 강력한 도구입니다. N-Queens 문제와 같이 다양한 해가 존재하는 경우, 교차와 돌연변이를 통해 다양한 해를 탐색하고 최적해에 접근할 수 있습니다. 크기가 큰 N-Queens 문제에 특히 적합하며, 일반적으로 높은 성공률을 보입니다.\\n4. MIMIC\\n효율성: MIMIC은 해 간의 상호 정보를 이용하여 효율적으로 해를 탐색하는 방법입니다. N-Queens 문제와 같은 복잡한 조합 최적화 문제에서도 좋은 성능을 낼 수 있지만, 계산 비용이 높다는 단점이 있습니다. 이 알고리즘은 해의 품질을 빠르게 향상시킬 수 있으나, 큰 규모의 문제에서는 시간과 자원이 많이 소모될 수 있습니다.\\n결론\\nN-Queens 문제를 해결하기 위해 가장 효율적인 알고리즘을 선택하는 것은 문제의 크기와 사용 가능한 계산 자원에 따라 달라질 수 있습니다. 일반적으로, 유전 알고리즘은 N-Queens 문제의 다양한 해를 탐색하고 최적해를 찾는 데 있어 강력한 성능을 보이는 경향이 있습니다. 이는 해의 다양성을 유지하고 복잡한 탐색 공간에서 효과적으로 탐색할 수 있는 능력 때문입니다. 그러나 특정 상황에서 시뮬레이티드 어닐링이나 MIMIC이 더 나은 성능을 보일 수도 있으므로, 상황에 따라 적절한 알고리즘을 선택하는 것이 중요합니다. 랜덤화 힐 클라이밍은 상대적으로 간단한 문제나 초기 탐색 단계에서 유용할 수 있으나, 크고 복잡한 N-Queens 문제에서는 한계가 있을 수 있습니다.\\n'"
      ]
     },
     "execution_count": 2,
     "metadata": {},
     "output_type": "execute_result"
    }
   ],
   "source": [
    "\"\"\"\n",
    "Queens 문제 설명\n",
    "Queens 문제, 특히 N-Queens 문제는 체스판 위에 N개의 퀸을 서로 공격할 수 없는 방식으로 배치하는 문제입니다. 여기서 \"공격할 수 없다\"는 것은 어떤 두 퀸도 같은 행, 열, 또는 대각선 상에 위치하지 않아야 함을 의미합니다. 예를 들어, 8-Queens 문제는 8x8 체스판 위에 8개의 퀸을 배치하는 경우의 수를 찾는 것입니다. 이 문제는 조합 최적화 문제의 일종으로, 컴퓨터 과학에서 알고리즘 설계와 인공지능의 전형적인 테스트 케이스로 사용됩니다.\n",
    "\n",
    "알고리즘 비교\n",
    "1. 랜덤화 힐 클라이밍 (Randomized Hill Climbing)\n",
    "효율성: 랜덤화 힐 클라이밍은 지역 최적해에 쉽게 갇힐 수 있기 때문에, N-Queens 문제 같은 복잡한 탐색 공간에서는 비효율적일 수 있습니다. 초기 해에서부터 점진적으로 개선해 나가는 방식은 간단한 문제에서는 잘 작동하지만, N-Queens 문제의 크기가 커질수록 더 많은 지역 최적해에 갇힐 가능성이 커집니다.\n",
    "2. 시뮬레이티드 어닐링 (Simulated Annealing)\n",
    "효율성: 시뮬레이티드 어닐링은 초기에는 탐색 공간을 넓게 탐색하고 점차 탐색 범위를 좁혀가며 해를 개선해 나가는 전략을 사용합니다. 이 접근법은 N-Queens 문제에서 지역 최적해를 탈출하고 보다 나은 해를 찾는 데 유용할 수 있습니다. 냉각 일정을 적절히 설정한다면, 상대적으로 높은 효율성을 보일 수 있습니다.\n",
    "3. 유전 알고리즘 (Genetic Algorithm)\n",
    "효율성: 유전 알고리즘은 해의 다양성을 유지하면서 복잡한 탐색 공간을 효과적으로 탐색할 수 있는 강력한 도구입니다. N-Queens 문제와 같이 다양한 해가 존재하는 경우, 교차와 돌연변이를 통해 다양한 해를 탐색하고 최적해에 접근할 수 있습니다. 크기가 큰 N-Queens 문제에 특히 적합하며, 일반적으로 높은 성공률을 보입니다.\n",
    "4. MIMIC\n",
    "효율성: MIMIC은 해 간의 상호 정보를 이용하여 효율적으로 해를 탐색하는 방법입니다. N-Queens 문제와 같은 복잡한 조합 최적화 문제에서도 좋은 성능을 낼 수 있지만, 계산 비용이 높다는 단점이 있습니다. 이 알고리즘은 해의 품질을 빠르게 향상시킬 수 있으나, 큰 규모의 문제에서는 시간과 자원이 많이 소모될 수 있습니다.\n",
    "결론\n",
    "N-Queens 문제를 해결하기 위해 가장 효율적인 알고리즘을 선택하는 것은 문제의 크기와 사용 가능한 계산 자원에 따라 달라질 수 있습니다. 일반적으로, 유전 알고리즘은 N-Queens 문제의 다양한 해를 탐색하고 최적해를 찾는 데 있어 강력한 성능을 보이는 경향이 있습니다. 이는 해의 다양성을 유지하고 복잡한 탐색 공간에서 효과적으로 탐색할 수 있는 능력 때문입니다. 그러나 특정 상황에서 시뮬레이티드 어닐링이나 MIMIC이 더 나은 성능을 보일 수도 있으므로, 상황에 따라 적절한 알고리즘을 선택하는 것이 중요합니다. 랜덤화 힐 클라이밍은 상대적으로 간단한 문제나 초기 탐색 단계에서 유용할 수 있으나, 크고 복잡한 N-Queens 문제에서는 한계가 있을 수 있습니다.\n",
    "\"\"\""
   ]
  },
  {
   "cell_type": "code",
   "execution_count": 3,
   "id": "e10c2746-8b52-4d0c-8cfa-d18e70788020",
   "metadata": {
    "tags": []
   },
   "outputs": [],
   "source": [
    "import mlrose_hiive\n",
    "import numpy as np\n",
    "import pandas as pd\n",
    "import time\n",
    "import random\n",
    "\n",
    "import matplotlib.pyplot as plt\n",
    "\n",
    "RANDOM_SEED = 27"
   ]
  },
  {
   "cell_type": "code",
   "execution_count": 4,
   "id": "c620aedc-f268-4c0a-b683-db1fa5dbbb25",
   "metadata": {
    "tags": []
   },
   "outputs": [],
   "source": [
    "num_items = 20\n",
    "random.seed(RANDOM_SEED)"
   ]
  },
  {
   "cell_type": "code",
   "execution_count": 5,
   "id": "246a060c-6688-4731-9d53-7db4292ecfda",
   "metadata": {
    "tags": []
   },
   "outputs": [],
   "source": [
    "fitness = mlrose_hiive.Queens()\n",
    "problem = mlrose_hiive.DiscreteOpt(length=num_items, fitness_fn=fitness, maximize=True, max_val=2)"
   ]
  },
  {
   "cell_type": "code",
   "execution_count": 6,
   "id": "de3473d4-1935-49ec-846a-2bdf3a270824",
   "metadata": {
    "tags": []
   },
   "outputs": [],
   "source": [
    "max_attempts = [ 1, 5, 10, 15, 20, 25, 30]\n",
    "\n",
    "blanks = [0 for i in range(len(max_attempts))]\n",
    "\n",
    "data = { \"Max_attempts\": max_attempts, \n",
    "        \"RHC\": blanks,\n",
    "        \"SA\": blanks, \n",
    "        \"GA\": blanks,\n",
    "        \"MIMIC\": blanks\n",
    "       }\n",
    "\n",
    "fitness_df = pd.DataFrame(data)\n",
    "duration_df = pd.DataFrame(data)"
   ]
  },
  {
   "cell_type": "code",
   "execution_count": 7,
   "id": "091b591a-d084-4d67-babb-8c1e650ce484",
   "metadata": {
    "tags": []
   },
   "outputs": [
    {
     "name": "stdout",
     "output_type": "stream",
     "text": [
      "max_attempt:  1 fitness_value:  33.0\n",
      "max_attempt:  5 fitness_value:  35.0\n",
      "max_attempt:  10 fitness_value:  36.0\n",
      "max_attempt:  15 fitness_value:  36.0\n",
      "max_attempt:  20 fitness_value:  36.0\n",
      "max_attempt:  25 fitness_value:  36.0\n",
      "max_attempt:  30 fitness_value:  36.0\n",
      "   Max_attempts  RHC  SA  GA  MIMIC\n",
      "0             1   33   0   0      0\n",
      "1             5   35   0   0      0\n",
      "2            10   36   0   0      0\n",
      "3            15   36   0   0      0\n",
      "4            20   36   0   0      0\n",
      "5            25   36   0   0      0\n",
      "6            30   36   0   0      0\n",
      "   Max_attempts       RHC  SA  GA  MIMIC\n",
      "0             1  0.033157   0   0      0\n",
      "1             5  0.049266   0   0      0\n",
      "2            10  0.069869   0   0      0\n",
      "3            15  0.098898   0   0      0\n",
      "4            20  0.107558   0   0      0\n",
      "5            25  0.293176   0   0      0\n",
      "6            30  0.470599   0   0      0\n"
     ]
    }
   ],
   "source": [
    "# Randomized Hill Climbing\n",
    "\n",
    "# best parameters\n",
    "max_iter = 200\n",
    "restart = 20\n",
    "\n",
    "#for max_iter in max_iters:\n",
    "for max_attempt in max_attempts:\n",
    "    start_time = time.perf_counter()\n",
    "    best_state, best_fitness, fitness_curve = mlrose_hiive.random_hill_climb(problem,\n",
    "                                                                             max_attempts = max_attempt,\n",
    "                                                                             max_iters = max_iter,\n",
    "                                                                             restarts = restart,\n",
    "                                                                             curve = False,\n",
    "                                                                             random_state=RANDOM_SEED)\n",
    "    duration_time = time.perf_counter() - start_time\n",
    "\n",
    "    fitness_df.loc[fitness_df[\"Max_attempts\"] == max_attempt, \"RHC\"] = best_fitness\n",
    "    duration_df.loc[duration_df[\"Max_attempts\"] == max_attempt, \"RHC\"] = duration_time\n",
    "    print(\"max_attempt: \", max_attempt, \"fitness_value: \", best_fitness)\n",
    "    \n",
    "    \n",
    "print(fitness_df)\n",
    "print(duration_df)"
   ]
  },
  {
   "cell_type": "code",
   "execution_count": 9,
   "id": "208aa174-4c50-4d30-a12d-11ac04454ed7",
   "metadata": {
    "tags": []
   },
   "outputs": [
    {
     "name": "stdout",
     "output_type": "stream",
     "text": [
      "max_attempt:  1 fitness_value:  31.0\n",
      "max_attempt:  5 fitness_value:  33.0\n",
      "max_attempt:  10 fitness_value:  36.0\n",
      "max_attempt:  15 fitness_value:  36.0\n",
      "max_attempt:  20 fitness_value:  36.0\n",
      "max_attempt:  25 fitness_value:  36.0\n",
      "max_attempt:  30 fitness_value:  36.0\n",
      "   Max_attempts  RHC  SA  GA  MIMIC\n",
      "0             1   33  31   0      0\n",
      "1             5   35  33   0      0\n",
      "2            10   36  36   0      0\n",
      "3            15   36  36   0      0\n",
      "4            20   36  36   0      0\n",
      "5            25   36  36   0      0\n",
      "6            30   36  36   0      0\n",
      "   Max_attempts       RHC        SA  GA  MIMIC\n",
      "0             1  0.033157  0.008009   0      0\n",
      "1             5  0.049266  0.029482   0      0\n",
      "2            10  0.069869  0.030460   0      0\n",
      "3            15  0.098898  0.035559   0      0\n",
      "4            20  0.107558  0.037919   0      0\n",
      "5            25  0.293176  0.035570   0      0\n",
      "6            30  0.470599  0.037301   0      0\n"
     ]
    }
   ],
   "source": [
    "# Simulated Annealing\n",
    "\n",
    "# best parameters\n",
    "max_iter = 200\n",
    "schedule = mlrose_hiive.GeomDecay()\n",
    "\n",
    "for max_attempt in max_attempts:\n",
    "    start_time = time.perf_counter()\n",
    "    best_state, best_fitness, fitness_curve = mlrose_hiive.simulated_annealing(problem,\n",
    "                                                                             max_attempts = max_attempt,\n",
    "                                                                             max_iters = max_iter,\n",
    "                                                                             schedule = schedule,\n",
    "                                                                             curve = False,\n",
    "                                                                             random_state=RANDOM_SEED)\n",
    "    duration_time = time.perf_counter() - start_time\n",
    "\n",
    "    #fitness_df.loc[fitness_df[\"Max_Iters\"] == max_iter, \"SA\"] = best_fitness\n",
    "    #duration_df.loc[duration_df[\"Max_Iters\"] == max_iter, \"SA\"] = duration_time\n",
    "    #print(\"max_iter: \", max_iter, \"fitness_value: \", best_fitness)\n",
    "    fitness_df.loc[fitness_df[\"Max_attempts\"] == max_attempt, \"SA\"] = best_fitness\n",
    "    duration_df.loc[duration_df[\"Max_attempts\"] == max_attempt, \"SA\"] = duration_time\n",
    "    print(\"max_attempt: \", max_attempt, \"fitness_value: \", best_fitness)\n",
    "\n",
    "    \n",
    "    \n",
    "print(fitness_df)\n",
    "print(duration_df)    "
   ]
  },
  {
   "cell_type": "code",
   "execution_count": 10,
   "id": "216fff7b-c349-4096-81dc-ef3eeb4c7f25",
   "metadata": {},
   "outputs": [
    {
     "name": "stdout",
     "output_type": "stream",
     "text": [
      "max_attempt:  1 fitness_value:  33.0\n",
      "max_attempt:  5 fitness_value:  36.0\n",
      "max_attempt:  10 fitness_value:  36.0\n",
      "max_attempt:  15 fitness_value:  36.0\n",
      "max_attempt:  20 fitness_value:  37.0\n",
      "max_attempt:  25 fitness_value:  37.0\n",
      "max_attempt:  30 fitness_value:  37.0\n",
      "   Max_attempts  RHC  SA  GA  MIMIC\n",
      "0             1   33  31  33      0\n",
      "1             5   35  33  36      0\n",
      "2            10   36  36  36      0\n",
      "3            15   36  36  36      0\n",
      "4            20   36  36  37      0\n",
      "5            25   36  36  37      0\n",
      "6            30   36  36  37      0\n",
      "   Max_attempts       RHC        SA        GA  MIMIC\n",
      "0             1  0.033157  0.008009  0.118157      0\n",
      "1             5  0.049266  0.029482  0.479803      0\n",
      "2            10  0.069869  0.030460  0.627019      0\n",
      "3            15  0.098898  0.035559  0.766427      0\n",
      "4            20  0.107558  0.037919  1.497401      0\n",
      "5            25  0.293176  0.035570  1.631413      0\n",
      "6            30  0.470599  0.037301  1.770126      0\n"
     ]
    }
   ],
   "source": [
    "# Genetic Algorithm\n",
    "\n",
    "# best parameters\n",
    "max_iter = 200\n",
    "mutation_prob = 0.05\n",
    "pop_size = 200\n",
    "\n",
    "for max_attempt in max_attempts:\n",
    "    start_time = time.perf_counter()\n",
    "    best_state, best_fitness, fitness_curve = mlrose_hiive.genetic_alg(problem,\n",
    "                                                                                     max_attempts = max_attempt,\n",
    "                                                                                     max_iters = max_iter,\n",
    "                                                                                     pop_size = pop_size,\n",
    "                                                                                     mutation_prob = mutation_prob, \n",
    "                                                                                     curve = False,\n",
    "                                                                                     random_state=RANDOM_SEED)\n",
    "    duration_time = time.perf_counter() - start_time\n",
    "    #fitness_df.loc[fitness_df[\"Max_Iters\"] == max_iter, \"GA\"] = best_fitness\n",
    "    #duration_df.loc[duration_df[\"Max_Iters\"] == max_iter, \"GA\"] = duration_time\n",
    "    fitness_df.loc[fitness_df[\"Max_attempts\"] == max_attempt, \"GA\"] = best_fitness\n",
    "    duration_df.loc[duration_df[\"Max_attempts\"] == max_attempt, \"GA\"] = duration_time\n",
    "    print(\"max_attempt: \", max_attempt, \"fitness_value: \", best_fitness)\n",
    "    \n",
    "    \n",
    "print(fitness_df)\n",
    "print(duration_df)    "
   ]
  },
  {
   "cell_type": "code",
   "execution_count": 11,
   "id": "27d27a36-5b96-4604-add2-c24ad9df9d81",
   "metadata": {
    "tags": []
   },
   "outputs": [
    {
     "name": "stdout",
     "output_type": "stream",
     "text": [
      "max_attempt:  1 fitness_value:  37.0\n",
      "max_attempt:  5 fitness_value:  37.0\n",
      "max_attempt:  10 fitness_value:  37.0\n",
      "max_attempt:  15 fitness_value:  37.0\n",
      "max_attempt:  20 fitness_value:  37.0\n",
      "max_attempt:  25 fitness_value:  37.0\n",
      "max_attempt:  30 fitness_value:  37.0\n",
      "   Max_attempts  RHC  SA  GA  MIMIC\n",
      "0             1   33  31  33     37\n",
      "1             5   35  33  36     37\n",
      "2            10   36  36  36     37\n",
      "3            15   36  36  36     37\n",
      "4            20   36  36  37     37\n",
      "5            25   36  36  37     37\n",
      "6            30   36  36  37     37\n",
      "   Max_attempts       RHC        SA        GA     MIMIC\n",
      "0             1  0.033157  0.008009  0.118157  0.297149\n",
      "1             5  0.049266  0.029482  0.479803  0.645935\n",
      "2            10  0.069869  0.030460  0.627019  1.146388\n",
      "3            15  0.098898  0.035559  0.766427  1.757232\n",
      "4            20  0.107558  0.037919  1.497401  2.164402\n",
      "5            25  0.293176  0.035570  1.631413  2.700675\n",
      "6            30  0.470599  0.037301  1.770126  3.213973\n"
     ]
    }
   ],
   "source": [
    "# MIMIC\n",
    "\n",
    "# best parameters\n",
    "max_iter = 200\n",
    "keep_pct = 0.1\n",
    "pop_size = 300\n",
    "\n",
    "#for max_iter in max_iters:\n",
    "for max_attempt in max_attempts:\n",
    "    start_time = time.perf_counter()\n",
    "    best_state, best_fitness, fitness_curve = mlrose_hiive.mimic(problem,\n",
    "                                                                             max_attempts = max_attempt,\n",
    "                                                                             max_iters = max_iter,\n",
    "                                                                             pop_size = pop_size,\n",
    "                                                                             keep_pct = keep_pct,\n",
    "                                                                             curve = False,\n",
    "                                                                             random_state=RANDOM_SEED)\n",
    "    duration_time = time.perf_counter() - start_time\n",
    "    #print(max_iter, best_fitness, duration_time)\n",
    "    #fitness_df.loc[fitness_df[\"Max_Iters\"] == max_iter, \"MIMIC\"] = best_fitness\n",
    "    #duration_df.loc[duration_df[\"Max_Iters\"] == max_iter, \"MIMIC\"] = duration_time\n",
    "    fitness_df.loc[fitness_df[\"Max_attempts\"] == max_attempt, \"MIMIC\"] = best_fitness\n",
    "    duration_df.loc[duration_df[\"Max_attempts\"] == max_attempt, \"MIMIC\"] = duration_time\n",
    "    print(\"max_attempt: \", max_attempt, \"fitness_value: \", best_fitness)\n",
    "     \n",
    "    \n",
    "print(fitness_df)\n",
    "print(duration_df)    "
   ]
  },
  {
   "cell_type": "code",
   "execution_count": 12,
   "id": "66addbbc-a983-453a-adf5-ec5e96d1df58",
   "metadata": {
    "tags": []
   },
   "outputs": [
    {
     "data": {
      "text/plain": [
       "<Figure size 640x480 with 0 Axes>"
      ]
     },
     "metadata": {},
     "output_type": "display_data"
    },
    {
     "data": {
      "image/png": "[encoded data removed]",
      "text/plain": [
       "<Figure size 640x480 with 1 Axes>"
      ]
     },
     "metadata": {},
     "output_type": "display_data"
    }
   ],
   "source": [
    "plt.style.use('default')\n",
    "plt.figure()\n",
    "\n",
    "fitness_df.plot(x='Max_attempts')\n",
    "plt.legend(loc='lower right')\n",
    "plt.xlabel('Max Attempts')\n",
    "plt.ylabel('Fitness Value')\n",
    "plt.ylim(0, 50)\n",
    "plt.title('Queens Best Fitness')\n",
    "plt.grid(True)\n",
    "\n",
    "plt.show()"
   ]
  },
  {
   "cell_type": "code",
   "execution_count": 13,
   "id": "6a735e12-e01d-495c-a149-261edeecf770",
   "metadata": {
    "tags": []
   },
   "outputs": [
    {
     "data": {
      "text/plain": [
       "<Figure size 640x480 with 0 Axes>"
      ]
     },
     "metadata": {},
     "output_type": "display_data"
    },
    {
     "data": {
      "image/png": "[encoded data removed]",
      "text/plain": [
       "<Figure size 640x480 with 1 Axes>"
      ]
     },
     "metadata": {},
     "output_type": "display_data"
    }
   ],
   "source": [
    "plt.style.use('default')\n",
    "plt.figure()\n",
    "\n",
    "duration_df.plot(x='Max_attempts')\n",
    "plt.legend(loc='upper right')\n",
    "plt.xlabel('Max Attempts')\n",
    "plt.ylabel('Time')\n",
    "#plt.ylim(50, 100)\n",
    "plt.title('Queens  Duration Time')\n",
    "plt.grid(True)\n",
    "\n",
    "plt.show()"
   ]
  },
  {
   "cell_type": "code",
   "execution_count": null,
   "id": "a93a677b-fd58-4fac-929d-ee970788884f",
   "metadata": {},
   "outputs": [],
   "source": []
  }
 ],
 "metadata": {
  "kernelspec": {
   "display_name": "Python 3 (ipykernel)",
   "language": "python",
   "name": "python3"
  },
  "language_info": {
   "codemirror_mode": {
    "name": "ipython",
    "version": 3
   },
   "file_extension": ".py",
   "mimetype": "text/x-python",
   "name": "python",
   "nbconvert_exporter": "python",
   "pygments_lexer": "ipython3",
   "version": "3.9.18"
  }
 },
 "nbformat": 4,
 "nbformat_minor": 5
}
