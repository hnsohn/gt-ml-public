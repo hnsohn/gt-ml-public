{
 "cells": [
  {
   "cell_type": "markdown",
   "id": "01a062cd-323a-4ace-9812-9a0d3808d77c",
   "metadata": {},
   "source": [
    "## CS 7641 Machine Learning\n",
    "## Assignment 3 Unsupervised Learning and Dimensional Deduction\n",
    "#### Experiment: Step 4 Neural Network & Dimensionality Reduction\n",
    "#### Algorithms: PCA, ICA, Randomized Projections, Manifold Learning\n",
    "#### Data      : Dropout"
   ]
  },
  {
   "cell_type": "code",
   "execution_count": 21,
   "id": "0c03b0dd-47b0-4ead-b775-6031e3fbdc74",
   "metadata": {},
   "outputs": [],
   "source": [
    "import numpy as np\n",
    "import matplotlib.pyplot as plt\n",
    "import pandas as pd\n",
    "import time\n",
    "import copy\n",
    "import math\n",
    "\n",
    "from scipy.stats import kurtosis \n",
    "\n",
    "from sklearn.preprocessing import StandardScaler\n",
    "\n",
    "from sklearn import metrics\n",
    "from sklearn.model_selection import train_test_split\n",
    "from sklearn.model_selection import cross_val_score\n",
    "from sklearn.model_selection import StratifiedKFold\n",
    "from sklearn.metrics import accuracy_score\n",
    "\n",
    "from sklearn.tree import DecisionTreeClassifier\n",
    "from sklearn.cluster import KMeans\n",
    "from sklearn.mixture import GaussianMixture\n",
    "from sklearn.decomposition import FastICA, PCA\n",
    "from sklearn.decomposition import TruncatedSVD\n",
    "from sklearn.random_projection import SparseRandomProjection\n",
    "\n",
    "\n",
    "from yellowbrick.cluster import SilhouetteVisualizer\n",
    "from yellowbrick.cluster import InterclusterDistance\n",
    "\n",
    "import torch\n",
    "import torch.nn as nn\n",
    "import torch.optim as optim\n",
    "import tqdm\n",
    "#from tqdm import tqdm\n",
    "\n",
    "import warnings\n",
    "warnings.simplefilter(action='ignore', category=FutureWarning)"
   ]
  },
  {
   "cell_type": "markdown",
   "id": "5677e992-97d3-41aa-ae31-46277f372636",
   "metadata": {},
   "source": [
    "## Predict Students' Dropout and Academic Success"
   ]
  },
  {
   "cell_type": "code",
   "execution_count": 22,
   "id": "2f5548c6-71dc-455d-8d0c-863208d9225c",
   "metadata": {},
   "outputs": [],
   "source": [
    "##\n",
    "## Data Load\n",
    "##\n",
    "\n",
    "df = pd.read_csv(\"./data/dropout.csv\", sep=\";\")\n",
    "\n",
    "# Target 데이터 분석 및 제거\n",
    "num_droupout = df.query('Target==\"Dropout\"')\n",
    "num_enrolled = df.query('Target==\"Enrolled\"')\n",
    "num_graduated = df.query('Target==\"Graduate\"')\n",
    "\n",
    "# Enrolled 데이타 삭제 (pending)\n",
    "df = df.drop(df[df['Target'] == \"Enrolled\"].index)\n",
    "\n",
    "# pandas dataframe replace (from https://heytech.tistory.com/441)\n",
    "df[\"Target\"].replace({'Dropout':0, 'Graduate':1}, inplace = True)\n",
    "\n",
    "X_raw = df.values[:,:-1]\n",
    "y_raw = df.values[:,-1]"
   ]
  },
  {
   "cell_type": "code",
   "execution_count": 23,
   "id": "34288a1b-8a09-4b3e-b5f0-71af3939d88a",
   "metadata": {},
   "outputs": [],
   "source": [
    "# Helper function to train one model\n",
    "def model_train(model, X_train, y_train, X_val, y_val, n_epochs = 100, lr=0.001):\n",
    "#def model_train(model, X_train, y_train, X_val, y_val):\n",
    "    # loss function and optimizer\n",
    "    loss_fn = nn.BCELoss()  # binary cross entropy\n",
    "    #optimizer = optim.Adam(model.parameters(), lr=0.0001)\n",
    "    #optimizer = optim.Adam(model.parameters(), lr=lr)  # modified \n",
    "    optimizer = optim.Adam(model.parameters(), lr=0.001)  # modified \n",
    " \n",
    "    #n_epochs = 300   # number of epochs to run\n",
    "    #n_epochs = n_epochs   # number of epochs to run # modified\n",
    "    n_epochs = 100   # number of epochs to run # modified\n",
    "    batch_size = 10  # size of each batch\n",
    "    batch_start = torch.arange(0, len(X_train), batch_size)\n",
    " \n",
    "    # Hold the best model\n",
    "    best_acc = - np.inf   # init to negative infinity\n",
    "    best_weights = None\n",
    " \n",
    "    for epoch in range(n_epochs):\n",
    "        model.train()\n",
    "        with tqdm.tqdm(batch_start, unit=\"batch\", mininterval=0, disable=True) as bar:\n",
    "            bar.set_description(f\"Epoch {epoch}\")\n",
    "            for start in bar:\n",
    "                # take a batch\n",
    "                X_batch = X_train[start:start+batch_size]\n",
    "                y_batch = y_train[start:start+batch_size]\n",
    "                # forward pass\n",
    "                y_pred = model(X_batch)\n",
    "                loss = loss_fn(y_pred, y_batch)\n",
    "                # backward pass\n",
    "                optimizer.zero_grad()\n",
    "                loss.backward()\n",
    "                # update weights\n",
    "                optimizer.step()\n",
    "                # print progress\n",
    "                acc = (y_pred.round() == y_batch).float().mean()\n",
    "                bar.set_postfix(\n",
    "                    loss=float(loss),\n",
    "                    acc=float(acc)\n",
    "                )\n",
    "        # evaluate accuracy at end of each epoch\n",
    "        model.eval()\n",
    "        y_pred = model(X_val)\n",
    "        acc = (y_pred.round() == y_val).float().mean()\n",
    "        acc = float(acc)\n",
    "        if acc > best_acc:\n",
    "            best_acc = acc\n",
    "            best_weights = copy.deepcopy(model.state_dict())\n",
    "    # restore model and return best accuracy\n",
    "    model.load_state_dict(best_weights)\n",
    "    return best_acc"
   ]
  },
  {
   "cell_type": "markdown",
   "id": "8512dd04-5d18-4d8c-b306-d94531998573",
   "metadata": {},
   "source": [
    "## Neural Network + PCA"
   ]
  },
  {
   "cell_type": "code",
   "execution_count": 36,
   "id": "646b83f2-c929-4bb3-9cab-409d14322bb0",
   "metadata": {},
   "outputs": [
    {
     "name": "stdout",
     "output_type": "stream",
     "text": [
      "torch.Size([2904, 2])\n"
     ]
    }
   ],
   "source": [
    "##\n",
    "## PCA\n",
    "##\n",
    "\n",
    "num_clusters = 2\n",
    "\n",
    "model = PCA(n_components = num_clusters)\n",
    "X_raw_pca = model.fit_transform(X_raw)\n",
    "\n",
    "X_raw_tensor = torch.tensor(X_raw_pca, dtype=torch.float32)\n",
    "y_raw_tensor = torch.tensor(y_raw, dtype=torch.float32).reshape(-1, 1)\n",
    "\n",
    "X_train, X_test, y_train, y_test = train_test_split(X_raw_tensor, y_raw_tensor, stratify=y_raw_tensor, test_size=0.2, random_state=42)\n",
    "\n",
    "print(X_train.shape)"
   ]
  },
  {
   "cell_type": "code",
   "execution_count": 37,
   "id": "bf472a7a-a238-43f5-9c42-6131d2af9695",
   "metadata": {},
   "outputs": [],
   "source": [
    "## \n",
    "## Neural Network + PCA\n",
    "##\n",
    "\n",
    "class Model (nn.Module):\n",
    "    def __init__(self, x):      \n",
    "        super().__init__()\n",
    "        self.layer1 = nn.Linear(2, x)\n",
    "        self.act1 = nn.ReLU()\n",
    "        self.layer2 = nn.Linear(x, x)\n",
    "        self.act2 = nn.ReLU()\n",
    "        self.output = nn.Linear(x, 1)\n",
    "        self.sigmoid = nn.Sigmoid()\n",
    "        \n",
    "    def forward(self, x):\n",
    "        x = self.act1(self.layer1(x))\n",
    "        x = self.act2(self.layer2(x))\n",
    "        x = self.sigmoid(self.output(x))\n",
    "        return x"
   ]
  },
  {
   "cell_type": "code",
   "execution_count": 38,
   "id": "fc11c8d6-52eb-4ec9-b794-d5a4b5f33350",
   "metadata": {},
   "outputs": [
    {
     "name": "stdout",
     "output_type": "stream",
     "text": [
      "Training Time:  63.27440758398734\n",
      "Cross Validation Score: 0.6198308587074279\n",
      "Test Accuracy: 0.6088154269972452\n"
     ]
    }
   ],
   "source": [
    "kfold = StratifiedKFold(n_splits=5, shuffle=True)\n",
    "cv_scores  = []\n",
    "\n",
    "start_time = time.perf_counter()\n",
    "for train, validate in kfold.split(X_train, y_train):\n",
    "    model = Model(36)\n",
    "    acc = model_train(model, X_train[train], y_train[train], X_train[validate], y_train[validate], 100, 0.001)\n",
    "    cv_scores.append(acc)\n",
    "training_time = time.perf_counter() - start_time\n",
    "print(\"Training Time: \", training_time)\n",
    "\n",
    "acc_mean = np.mean(cv_scores)\n",
    "    \n",
    "with torch.no_grad():\n",
    "    y_pred = model(X_test)\n",
    "    \n",
    "acc_test = metrics.accuracy_score(y_test.numpy(), np.rint(y_pred.numpy()))    \n",
    "\n",
    "print(\"Cross Validation Score: \" + str(acc_mean))\n",
    "print(\"Test Accuracy: \" + str(acc_test))"
   ]
  },
  {
   "cell_type": "markdown",
   "id": "0ffe7c15-b7c9-4424-ac76-1305be3fc4e0",
   "metadata": {},
   "source": [
    "## Neural Network + ICA"
   ]
  },
  {
   "cell_type": "code",
   "execution_count": 40,
   "id": "bdd33495-66fc-47f7-960c-97cb0f8557bb",
   "metadata": {},
   "outputs": [],
   "source": [
    "##\n",
    "## ICA\n",
    "##\n",
    "\n",
    "num_clusters = 14\n",
    "\n",
    "model = FastICA(n_components= num_clusters)\n",
    "X_raw_ica = model.fit_transform(X_raw)\n",
    "\n",
    "X_raw_tensor = torch.tensor(X_raw_ica, dtype=torch.float32)\n",
    "y_raw_tensor = torch.tensor(y_raw, dtype=torch.float32).reshape(-1, 1)\n",
    "\n",
    "X_train, X_test, y_train, y_test = train_test_split(X_raw_tensor, y_raw_tensor, stratify=y_raw_tensor, test_size=0.2, random_state=42)\n"
   ]
  },
  {
   "cell_type": "code",
   "execution_count": 41,
   "id": "54f4fb21-bb80-4ce3-aa56-f136d5cb26f7",
   "metadata": {},
   "outputs": [],
   "source": [
    "## \n",
    "## Neural Network + ICA\n",
    "##\n",
    "\n",
    "class Model (nn.Module):\n",
    "    def __init__(self, x):      \n",
    "        super().__init__()\n",
    "        self.layer1 = nn.Linear(14, x)\n",
    "        self.act1 = nn.ReLU()\n",
    "        self.layer2 = nn.Linear(x, x)\n",
    "        self.act2 = nn.ReLU()\n",
    "        self.output = nn.Linear(x, 1)\n",
    "        self.sigmoid = nn.Sigmoid()\n",
    "        \n",
    "    def forward(self, x):\n",
    "        x = self.act1(self.layer1(x))\n",
    "        x = self.act2(self.layer2(x))\n",
    "        x = self.sigmoid(self.output(x))\n",
    "        return x"
   ]
  },
  {
   "cell_type": "code",
   "execution_count": 42,
   "id": "56baea20-d88f-4e96-b41f-cb9787f211ca",
   "metadata": {},
   "outputs": [
    {
     "name": "stdout",
     "output_type": "stream",
     "text": [
      "Training Time:  55.99714774999302\n",
      "Cross Validation Score: 0.8612232208251953\n",
      "Test Accuracy: 0.8636363636363636\n"
     ]
    }
   ],
   "source": [
    "kfold = StratifiedKFold(n_splits=5, shuffle=True)\n",
    "cv_scores  = []\n",
    "\n",
    "start_time = time.perf_counter()\n",
    "for train, validate in kfold.split(X_train, y_train):\n",
    "    model = Model(36)\n",
    "    acc = model_train(model, X_train[train], y_train[train], X_train[validate], y_train[validate], 100, 0.001)\n",
    "    cv_scores.append(acc)\n",
    "training_time = time.perf_counter() - start_time\n",
    "print(\"Training Time: \", training_time)\n",
    "\n",
    "acc_mean = np.mean(cv_scores)\n",
    "    \n",
    "with torch.no_grad():\n",
    "    y_pred = model(X_test)\n",
    "    \n",
    "acc_test = metrics.accuracy_score(y_test.numpy(), np.rint(y_pred.numpy()))    \n",
    "\n",
    "print(\"Cross Validation Score: \" + str(acc_mean))\n",
    "print(\"Test Accuracy: \" + str(acc_test))"
   ]
  },
  {
   "cell_type": "markdown",
   "id": "48607be8-fd44-4107-96a0-bb4398bab0bd",
   "metadata": {},
   "source": [
    "## Neural Network + Randomized Projections"
   ]
  },
  {
   "cell_type": "code",
   "execution_count": 43,
   "id": "37c647d5-f08c-4576-9c51-f5360ac88252",
   "metadata": {},
   "outputs": [],
   "source": [
    "##\n",
    "## Randomized Projections\n",
    "##\n",
    "\n",
    "num_clusters = 9\n",
    "\n",
    "model = SparseRandomProjection(n_components=num_clusters, random_state=0)\n",
    "X_raw_rp = model.fit_transform(X_raw)\n",
    "\n",
    "X_raw_tensor = torch.tensor(X_raw_rp, dtype=torch.float32)\n",
    "y_raw_tensor = torch.tensor(y_raw, dtype=torch.float32).reshape(-1, 1)\n",
    "\n",
    "X_train, X_test, y_train, y_test = train_test_split(X_raw_tensor, y_raw_tensor, stratify=y_raw_tensor, test_size=0.2, random_state=42)\n"
   ]
  },
  {
   "cell_type": "code",
   "execution_count": 44,
   "id": "fe19166c-55a3-4c7d-aa84-daa308cdf0f3",
   "metadata": {},
   "outputs": [],
   "source": [
    "## \n",
    "## Neural Network + Randomized Projections\n",
    "##\n",
    "\n",
    "class Model (nn.Module):\n",
    "    def __init__(self, x):      \n",
    "        super().__init__()\n",
    "        self.layer1 = nn.Linear(9, x)\n",
    "        self.act1 = nn.ReLU()\n",
    "        self.layer2 = nn.Linear(x, x)\n",
    "        self.act2 = nn.ReLU()\n",
    "        self.output = nn.Linear(x, 1)\n",
    "        self.sigmoid = nn.Sigmoid()\n",
    "        \n",
    "    def forward(self, x):\n",
    "        x = self.act1(self.layer1(x))\n",
    "        x = self.act2(self.layer2(x))\n",
    "        x = self.sigmoid(self.output(x))\n",
    "        return x"
   ]
  },
  {
   "cell_type": "code",
   "execution_count": 45,
   "id": "33721cc7-5c6a-4b02-97b4-d139d73d39a6",
   "metadata": {},
   "outputs": [
    {
     "name": "stdout",
     "output_type": "stream",
     "text": [
      "Training Time:  58.852494332939386\n",
      "Cross Validation Score: 0.8756946921348572\n",
      "Test Accuracy: 0.8622589531680441\n"
     ]
    }
   ],
   "source": [
    "kfold = StratifiedKFold(n_splits=5, shuffle=True)\n",
    "cv_scores  = []\n",
    "\n",
    "start_time = time.perf_counter()\n",
    "for train, validate in kfold.split(X_train, y_train):\n",
    "    model = Model(36)\n",
    "    acc = model_train(model, X_train[train], y_train[train], X_train[validate], y_train[validate], 100, 0.001)\n",
    "    cv_scores.append(acc)\n",
    "training_time = time.perf_counter() - start_time\n",
    "print(\"Training Time: \", training_time)\n",
    "\n",
    "acc_mean = np.mean(cv_scores)\n",
    "    \n",
    "with torch.no_grad():\n",
    "    y_pred = model(X_test)\n",
    "    \n",
    "acc_test = metrics.accuracy_score(y_test.numpy(), np.rint(y_pred.numpy()))    \n",
    "\n",
    "print(\"Cross Validation Score: \" + str(acc_mean))\n",
    "print(\"Test Accuracy: \" + str(acc_test))"
   ]
  },
  {
   "cell_type": "markdown",
   "id": "6aa23690-f6b8-484a-a915-a01e4bf74df9",
   "metadata": {},
   "source": [
    "## Neural Network + TruncatedSVD"
   ]
  },
  {
   "cell_type": "code",
   "execution_count": 46,
   "id": "7ecab04f-dfcc-4fef-ba51-5bb60f6d6122",
   "metadata": {},
   "outputs": [],
   "source": [
    "##\n",
    "## TruncatedSVD\n",
    "##\n",
    "\n",
    "num_clusters = 2\n",
    "\n",
    "model = TruncatedSVD(n_components=num_clusters)\n",
    "X_raw_truncsvd = model.fit_transform(X_raw)\n",
    "\n",
    "X_raw_tensor = torch.tensor(X_raw_truncsvd, dtype=torch.float32)\n",
    "y_raw_tensor = torch.tensor(y_raw, dtype=torch.float32).reshape(-1, 1)\n",
    "\n",
    "X_train, X_test, y_train, y_test = train_test_split(X_raw_tensor, y_raw_tensor, stratify=y_raw_tensor, test_size=0.2, random_state=42)\n"
   ]
  },
  {
   "cell_type": "code",
   "execution_count": 47,
   "id": "7281593a-fdcf-409b-85ee-3bce4b1d92ae",
   "metadata": {},
   "outputs": [],
   "source": [
    "## \n",
    "## Neural Network + Randomized Projections\n",
    "##\n",
    "\n",
    "class Model (nn.Module):\n",
    "    def __init__(self, x):      \n",
    "        super().__init__()\n",
    "        self.layer1 = nn.Linear(2, x)\n",
    "        self.act1 = nn.ReLU()\n",
    "        self.layer2 = nn.Linear(x, x)\n",
    "        self.act2 = nn.ReLU()\n",
    "        self.output = nn.Linear(x, 1)\n",
    "        self.sigmoid = nn.Sigmoid()\n",
    "        \n",
    "    def forward(self, x):\n",
    "        x = self.act1(self.layer1(x))\n",
    "        x = self.act2(self.layer2(x))\n",
    "        x = self.sigmoid(self.output(x))\n",
    "        return x"
   ]
  },
  {
   "cell_type": "code",
   "execution_count": 48,
   "id": "ae590f94-d7a1-41f8-94e1-077392ae3353",
   "metadata": {},
   "outputs": [
    {
     "name": "stdout",
     "output_type": "stream",
     "text": [
      "Training Time:  57.903363374993205\n",
      "Cross Validation Score: 0.5740500926971436\n",
      "Test Accuracy: 0.6074380165289256\n"
     ]
    }
   ],
   "source": [
    "kfold = StratifiedKFold(n_splits=5, shuffle=True)\n",
    "cv_scores  = []\n",
    "\n",
    "start_time = time.perf_counter()\n",
    "for train, validate in kfold.split(X_train, y_train):\n",
    "    model = Model(36)\n",
    "    acc = model_train(model, X_train[train], y_train[train], X_train[validate], y_train[validate], 100, 0.001)\n",
    "    cv_scores.append(acc)\n",
    "training_time = time.perf_counter() - start_time\n",
    "print(\"Training Time: \", training_time)\n",
    "\n",
    "acc_mean = np.mean(cv_scores)\n",
    "    \n",
    "with torch.no_grad():\n",
    "    y_pred = model(X_test)\n",
    "    \n",
    "acc_test = metrics.accuracy_score(y_test.numpy(), np.rint(y_pred.numpy()))    \n",
    "\n",
    "print(\"Cross Validation Score: \" + str(acc_mean))\n",
    "print(\"Test Accuracy: \" + str(acc_test))"
   ]
  },
  {
   "cell_type": "code",
   "execution_count": null,
   "id": "5eaace9d-8d2d-4212-8b52-5276e8a51343",
   "metadata": {},
   "outputs": [],
   "source": []
  }
 ],
 "metadata": {
  "kernelspec": {
   "display_name": "Python 3 (ipykernel)",
   "language": "python",
   "name": "python3"
  },
  "language_info": {
   "codemirror_mode": {
    "name": "ipython",
    "version": 3
   },
   "file_extension": ".py",
   "mimetype": "text/x-python",
   "name": "python",
   "nbconvert_exporter": "python",
   "pygments_lexer": "ipython3",
   "version": "3.10.13"
  }
 },
 "nbformat": 4,
 "nbformat_minor": 5
}
