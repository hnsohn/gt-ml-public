{
 "cells": [
  {
   "cell_type": "markdown",
   "id": "3e95d094-a0ce-467a-9d50-26308034dd30",
   "metadata": {},
   "source": [
    "# CS 7641 Machine Learning\n",
    "# Assignment 2 Randomized Optimization\n",
    "\n",
    "## Neural Network Weight Optimization : Simulated Annealing"
   ]
  },
  {
   "cell_type": "code",
   "execution_count": 10,
   "id": "e10c2746-8b52-4d0c-8cfa-d18e70788020",
   "metadata": {
    "tags": []
   },
   "outputs": [],
   "source": [
    "#\n",
    "# 0. Import Packages\n",
    "#\n",
    "\n",
    "# han: check if random seed is necessary\n",
    "RANDOM_SEED = 27\n",
    "\n",
    "# Math tools for ML\n",
    "import numpy as np\n",
    "import pandas as pd\n",
    "import math\n",
    "import time\n",
    "import copy\n",
    "from numpy import arange\n",
    "\n",
    "# Randomized Optimization \n",
    "import mlrose_hiive\n",
    "\n",
    "# Progress bar\n",
    "#from tqdm import tqdm\n",
    "\n",
    "# Graph visualization\n",
    "import matplotlib.pyplot as plt\n",
    "\n",
    "# Data Preparation\n",
    "from sklearn.model_selection import train_test_split\n",
    "from sklearn.model_selection import StratifiedKFold\n",
    "from sklearn.model_selection import KFold\n",
    "\n",
    "from sklearn.preprocessing import MinMaxScaler, OneHotEncoder\n",
    "\n",
    "import torch\n",
    "import torch.nn as nn\n",
    "#import torch.optim as optim\n",
    "#import tqdm\n",
    "\n",
    "from sklearn.model_selection import cross_val_score, cross_validate\n",
    "from sklearn.model_selection import StratifiedKFold\n",
    "\n",
    "# Model \n",
    "from sklearn.tree import DecisionTreeClassifier # Decision Tree\n",
    "from sklearn.ensemble import AdaBoostClassifier # Boosted Decision Tree\n",
    "from sklearn.svm import SVC # SVM\n",
    "from sklearn.neighbors import KNeighborsClassifier # KNN\n",
    "\n",
    "#from sklearn import tree\n",
    "\n",
    "import sklearn.metrics as mt\n",
    "from sklearn.metrics import roc_auc_score\n",
    "from sklearn.metrics import f1_score\n",
    "from sklearn.metrics import roc_curve\n",
    "from sklearn.preprocessing import StandardScaler\n"
   ]
  },
  {
   "cell_type": "code",
   "execution_count": 11,
   "id": "a2004113-bf7e-4807-a4cd-db9eb0eae320",
   "metadata": {
    "tags": []
   },
   "outputs": [
    {
     "name": "stdout",
     "output_type": "stream",
     "text": [
      "<class 'pandas.core.frame.DataFrame'>\n",
      "RangeIndex: 4424 entries, 0 to 4423\n",
      "Data columns (total 37 columns):\n",
      " #   Column                                          Non-Null Count  Dtype  \n",
      "---  ------                                          --------------  -----  \n",
      " 0   Marital status                                  4424 non-null   int64  \n",
      " 1   Application mode                                4424 non-null   int64  \n",
      " 2   Application order                               4424 non-null   int64  \n",
      " 3   Course                                          4424 non-null   int64  \n",
      " 4   Daytime/evening attendance\t                     4424 non-null   int64  \n",
      " 5   Previous qualification                          4424 non-null   int64  \n",
      " 6   Previous qualification (grade)                  4424 non-null   float64\n",
      " 7   Nacionality                                     4424 non-null   int64  \n",
      " 8   Mother's qualification                          4424 non-null   int64  \n",
      " 9   Father's qualification                          4424 non-null   int64  \n",
      " 10  Mother's occupation                             4424 non-null   int64  \n",
      " 11  Father's occupation                             4424 non-null   int64  \n",
      " 12  Admission grade                                 4424 non-null   float64\n",
      " 13  Displaced                                       4424 non-null   int64  \n",
      " 14  Educational special needs                       4424 non-null   int64  \n",
      " 15  Debtor                                          4424 non-null   int64  \n",
      " 16  Tuition fees up to date                         4424 non-null   int64  \n",
      " 17  Gender                                          4424 non-null   int64  \n",
      " 18  Scholarship holder                              4424 non-null   int64  \n",
      " 19  Age at enrollment                               4424 non-null   int64  \n",
      " 20  International                                   4424 non-null   int64  \n",
      " 21  Curricular units 1st sem (credited)             4424 non-null   int64  \n",
      " 22  Curricular units 1st sem (enrolled)             4424 non-null   int64  \n",
      " 23  Curricular units 1st sem (evaluations)          4424 non-null   int64  \n",
      " 24  Curricular units 1st sem (approved)             4424 non-null   int64  \n",
      " 25  Curricular units 1st sem (grade)                4424 non-null   float64\n",
      " 26  Curricular units 1st sem (without evaluations)  4424 non-null   int64  \n",
      " 27  Curricular units 2nd sem (credited)             4424 non-null   int64  \n",
      " 28  Curricular units 2nd sem (enrolled)             4424 non-null   int64  \n",
      " 29  Curricular units 2nd sem (evaluations)          4424 non-null   int64  \n",
      " 30  Curricular units 2nd sem (approved)             4424 non-null   int64  \n",
      " 31  Curricular units 2nd sem (grade)                4424 non-null   float64\n",
      " 32  Curricular units 2nd sem (without evaluations)  4424 non-null   int64  \n",
      " 33  Unemployment rate                               4424 non-null   float64\n",
      " 34  Inflation rate                                  4424 non-null   float64\n",
      " 35  GDP                                             4424 non-null   float64\n",
      " 36  Target                                          4424 non-null   object \n",
      "dtypes: float64(7), int64(29), object(1)\n",
      "memory usage: 1.2+ MB\n",
      "1421\n",
      "794\n",
      "2209\n",
      "0       0\n",
      "1       1\n",
      "2       0\n",
      "3       1\n",
      "4       1\n",
      "       ..\n",
      "4419    1\n",
      "4420    0\n",
      "4421    0\n",
      "4422    1\n",
      "4423    1\n",
      "Name: Target, Length: 3630, dtype: int64\n",
      "x_raw dimension:  (3630, 36)\n",
      "y_raw dimension:  (3630,)\n"
     ]
    }
   ],
   "source": [
    "#\n",
    "# 1. Data Preparation\n",
    "#\n",
    "\n",
    "df = pd.read_csv(\"./data/dropout.csv\", sep=\";\")\n",
    "df.info()\n",
    "\n",
    "# Target 데이터 분석 및 제거\n",
    "num_droupout = df.query('Target==\"Dropout\"')\n",
    "print(len(num_droupout))\n",
    "num_enrolled = df.query('Target==\"Enrolled\"')\n",
    "print(len(num_enrolled))\n",
    "num_graduated = df.query('Target==\"Graduate\"')\n",
    "print(len(num_graduated))\n",
    "\n",
    "# Enrolled 데이타 삭제 (pending)\n",
    "df = df.drop(df[df['Target'] == \"Enrolled\"].index)\n",
    "\n",
    "# pandas dataframe replace (from https://heytech.tistory.com/441)\n",
    "df[\"Target\"].replace({'Dropout':0, 'Graduate':1}, inplace = True)\n",
    "print(df[\"Target\"])\n",
    "\n",
    "X_raw = df.values[:,:-1]\n",
    "y_raw = df.values[:,-1]\n",
    "\n",
    "print(\"x_raw dimension: \", X_raw.shape)\n",
    "print(\"y_raw dimension: \", y_raw.shape)"
   ]
  },
  {
   "cell_type": "code",
   "execution_count": 12,
   "id": "a3448933-9f2a-49d4-ae46-1b44578a874a",
   "metadata": {
    "tags": []
   },
   "outputs": [],
   "source": [
    "#\n",
    "# 1.1 Tensor Data Type (Pytorch)\n",
    "#\n",
    "\n",
    "#X_raw = torch.tensor(X_raw, dtype=torch.float32)\n",
    "#y_raw = torch.tensor(y_raw, dtype=torch.float32).reshape(-1, 1)"
   ]
  },
  {
   "cell_type": "code",
   "execution_count": 17,
   "id": "3c2bdcf5-68b5-454c-8044-e88a48a181f9",
   "metadata": {
    "tags": []
   },
   "outputs": [
    {
     "name": "stdout",
     "output_type": "stream",
     "text": [
      "(2904, 2)\n",
      "(726, 2)\n"
     ]
    }
   ],
   "source": [
    "#\n",
    "# 1.2 Split train and test sets\n",
    "#\n",
    "\n",
    "# data type change \n",
    "#y_raw = y_raw.astype(int)\n",
    "\n",
    "X_train, X_test, y_train, y_test = train_test_split(X_raw, y_raw, stratify=y_raw, test_size=0.2, random_state=RANDOM_SEED)\n",
    "\n",
    "scaler = MinMaxScaler()\n",
    "\n",
    "X_train_scaled = scaler.fit_transform(X_train)\n",
    "X_test_scaled = scaler.transform(X_test)\n",
    "\n",
    "one_hot = OneHotEncoder()\n",
    "\n",
    "y_train_hot = one_hot.fit_transform(y_train.reshape(-1, 1)).todense()\n",
    "y_test_hot = one_hot.transform(y_test.reshape(-1, 1)).todense()\n",
    "\n",
    "# print # of X_train\n",
    "print(y_train_hot.shape)\n",
    "print(y_test_hot.shape)"
   ]
  },
  {
   "cell_type": "code",
   "execution_count": 20,
   "id": "0c699f3b-2c11-425f-a69e-c3b54725f67a",
   "metadata": {
    "tags": []
   },
   "outputs": [
    {
     "name": "stdout",
     "output_type": "stream",
     "text": [
      "1 400 0.5196450827942312 0.5247933884297521 1.457298000000037\n",
      "1 800 0.5196450827942312 0.5247933884297521 1.3727799579999669\n",
      "1 1200 0.5196450827942312 0.5247933884297521 1.3781834579999668\n",
      "1 1600 0.5196450827942312 0.5247933884297521 1.3706042079999747\n",
      "1 2000 0.5196450827942312 0.5247933884297521 1.3696000840000124\n",
      "5 400 0.6477304291055849 0.640495867768595 3.2573983339999586\n",
      "5 800 0.6942156804558134 0.7107438016528925 6.495298208000008\n",
      "5 1200 0.7575844263754525 0.7617079889807162 9.527335249999965\n",
      "5 1600 0.7923479138227789 0.7892561983471075 12.430790624999986\n",
      "5 2000 0.8102569885453142 0.7947658402203857 15.445627666000007\n",
      "10 400 0.6546275743367558 0.640495867768595 3.2836145830000305\n",
      "10 800 0.691456466259125 0.6983471074380165 6.355262666000044\n",
      "10 1200 0.747589174431717 0.7396694214876033 9.351558000000068\n",
      "10 1600 0.7906255564128435 0.7548209366391184 12.455930250000051\n",
      "10 2000 0.8202409638554217 0.7920110192837465 16.01862887499999\n",
      "20 400 0.6529028428986884 0.6473829201101928 3.7719947909999973\n",
      "20 800 0.6942156804558134 0.7107438016528925 7.30371070800004\n",
      "20 1200 0.7575844263754525 0.7617079889807162 9.820862250000005\n",
      "20 1600 0.7923479138227789 0.7892561983471075 14.776736916000004\n",
      "20 2000 0.8102569885453142 0.7947658402203857 17.113713500000017\n"
     ]
    }
   ],
   "source": [
    "#\n",
    "# 2. Learning Curve\n",
    "#\n",
    "\n",
    "max_attempts = [ 1, 5, 10, 20]\n",
    "#max_iters = [200, 400, 600, 800, 1000, 1200, 1400, 1600, 1800, 2000]\n",
    "max_iters = [400, 800, 1200, 1600, 2000]\n",
    "\n",
    "results_column = [\"max_attempts\", \"max_iters\", \"accuracy_train\", \"accuracy_test\", \"train_time\"]\n",
    "results_list = []\n",
    "results_df = pd.DataFrame(columns=results_column)\n",
    "\n",
    "for max_attempt in max_attempts:\n",
    "    for max_iter in max_iters:\n",
    "        \n",
    "            \n",
    "        kfold = KFold(n_splits=5, shuffle=True)\n",
    "        cv_scores  = []\n",
    "            \n",
    "        start_time = time.perf_counter()\n",
    "        nn_model = mlrose_hiive.NeuralNetwork(hidden_nodes = [2], \n",
    "                                                  activation = 'relu' ,\n",
    "                                                  algorithm = 'simulated_annealing',\n",
    "                                                  is_classifier = True,\n",
    "                                                  early_stopping = True,\n",
    "                                                  random_state = RANDOM_SEED,\n",
    "                                                  max_attempts = max_attempt,\n",
    "                                                  max_iters = max_iter)\n",
    "\n",
    "        for train, validate in kfold.split(X_train_scaled, y_train_hot):\n",
    "            nn_model.fit(X_train_scaled[train], y_train_hot[train])\n",
    "            y_pred_hot = nn_model.predict(X_train_scaled[validate])\n",
    "            accuracy = mt.accuracy_score(np.asarray(y_pred_hot), np.asarray(y_train_hot[validate]))\n",
    "            cv_scores.append(accuracy)\n",
    "            \n",
    "        train_time = time.perf_counter() - start_time\n",
    "\n",
    "        accuracy_train = np.mean(cv_scores)\n",
    "    \n",
    "        with torch.no_grad():\n",
    "            y_pred_hot = nn_model.predict(X_test_scaled)\n",
    "        accuracy_test = mt.accuracy_score(np.asarray(y_test_hot), np.asarray(y_pred_hot))\n",
    "            \n",
    "        results_df.loc[len(results_df.index)] = [max_attempt, max_iter, accuracy_train, accuracy_test, train_time]\n",
    "        print(max_attempt, max_iter, accuracy_train, accuracy_test, train_time)"
   ]
  },
  {
   "cell_type": "code",
   "execution_count": 21,
   "id": "b5719a95-635b-4cae-9a74-7e4c01ce4cf9",
   "metadata": {
    "tags": []
   },
   "outputs": [
    {
     "name": "stdout",
     "output_type": "stream",
     "text": [
      "Best Test Accuracy: \n",
      " max_attempts         5.000000\n",
      "max_iters         2000.000000\n",
      "accuracy_train       0.810257\n",
      "accuracy_test        0.794766\n",
      "train_time          15.445628\n",
      "Name: 9, dtype: float64\n"
     ]
    }
   ],
   "source": [
    "#print(results_df)\n",
    "print(\"Best Test Accuracy: \\n\", results_df.loc[results_df['accuracy_test'].idxmax()])  "
   ]
  },
  {
   "cell_type": "code",
   "execution_count": 22,
   "id": "9e2ed87b-b42e-44a5-a8b0-a178bce1ead0",
   "metadata": {
    "tags": []
   },
   "outputs": [],
   "source": [
    "results_df.to_csv('nn_simulated_annealing.csv')"
   ]
  },
  {
   "cell_type": "code",
   "execution_count": null,
   "id": "37bd444b-1f24-4c22-a5af-c61413a8e1e6",
   "metadata": {},
   "outputs": [],
   "source": []
  }
 ],
 "metadata": {
  "kernelspec": {
   "display_name": "Python 3 (ipykernel)",
   "language": "python",
   "name": "python3"
  },
  "language_info": {
   "codemirror_mode": {
    "name": "ipython",
    "version": 3
   },
   "file_extension": ".py",
   "mimetype": "text/x-python",
   "name": "python",
   "nbconvert_exporter": "python",
   "pygments_lexer": "ipython3",
   "version": "3.9.18"
  }
 },
 "nbformat": 4,
 "nbformat_minor": 5
}
