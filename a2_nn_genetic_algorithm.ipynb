{
 "cells": [
  {
   "cell_type": "markdown",
   "id": "3e95d094-a0ce-467a-9d50-26308034dd30",
   "metadata": {},
   "source": [
    "# CS 7641 Machine Learning\n",
    "# Assignment 2 Randomized Optimization\n",
    "\n",
    "## Neural Network Weight Optimization : Genetic Algorithm"
   ]
  },
  {
   "cell_type": "code",
   "execution_count": 1,
   "id": "e10c2746-8b52-4d0c-8cfa-d18e70788020",
   "metadata": {
    "tags": []
   },
   "outputs": [],
   "source": [
    "#\n",
    "# 0. Import Packages\n",
    "#\n",
    "\n",
    "RANDOM_SEED = 27\n",
    "\n",
    "# Math tools for ML\n",
    "import numpy as np\n",
    "import pandas as pd\n",
    "import math\n",
    "import time\n",
    "import copy\n",
    "from numpy import arange\n",
    "\n",
    "# Randomized Optimization \n",
    "import mlrose_hiive\n",
    "\n",
    "# Progress bar\n",
    "#from tqdm import tqdm\n",
    "\n",
    "# Graph visualization\n",
    "import matplotlib.pyplot as plt\n",
    "\n",
    "# Data Preparation\n",
    "from sklearn.model_selection import train_test_split\n",
    "from sklearn.model_selection import StratifiedKFold\n",
    "from sklearn.model_selection import KFold\n",
    "\n",
    "from sklearn.preprocessing import MinMaxScaler, OneHotEncoder\n",
    "\n",
    "import torch\n",
    "import torch.nn as nn\n",
    "#import torch.optim as optim\n",
    "#import tqdm\n",
    "\n",
    "from sklearn.model_selection import cross_val_score, cross_validate\n",
    "from sklearn.model_selection import StratifiedKFold\n",
    "\n",
    "# Model \n",
    "from sklearn.tree import DecisionTreeClassifier # Decision Tree\n",
    "from sklearn.ensemble import AdaBoostClassifier # Boosted Decision Tree\n",
    "from sklearn.svm import SVC # SVM\n",
    "from sklearn.neighbors import KNeighborsClassifier # KNN\n",
    "\n",
    "#from sklearn import tree\n",
    "\n",
    "import sklearn.metrics as mt\n",
    "from sklearn.metrics import roc_auc_score\n",
    "from sklearn.metrics import f1_score\n",
    "from sklearn.metrics import roc_curve\n",
    "from sklearn.preprocessing import StandardScaler\n"
   ]
  },
  {
   "cell_type": "code",
   "execution_count": 2,
   "id": "a2004113-bf7e-4807-a4cd-db9eb0eae320",
   "metadata": {
    "tags": []
   },
   "outputs": [
    {
     "name": "stdout",
     "output_type": "stream",
     "text": [
      "<class 'pandas.core.frame.DataFrame'>\n",
      "RangeIndex: 4424 entries, 0 to 4423\n",
      "Data columns (total 37 columns):\n",
      " #   Column                                          Non-Null Count  Dtype  \n",
      "---  ------                                          --------------  -----  \n",
      " 0   Marital status                                  4424 non-null   int64  \n",
      " 1   Application mode                                4424 non-null   int64  \n",
      " 2   Application order                               4424 non-null   int64  \n",
      " 3   Course                                          4424 non-null   int64  \n",
      " 4   Daytime/evening attendance\t                     4424 non-null   int64  \n",
      " 5   Previous qualification                          4424 non-null   int64  \n",
      " 6   Previous qualification (grade)                  4424 non-null   float64\n",
      " 7   Nacionality                                     4424 non-null   int64  \n",
      " 8   Mother's qualification                          4424 non-null   int64  \n",
      " 9   Father's qualification                          4424 non-null   int64  \n",
      " 10  Mother's occupation                             4424 non-null   int64  \n",
      " 11  Father's occupation                             4424 non-null   int64  \n",
      " 12  Admission grade                                 4424 non-null   float64\n",
      " 13  Displaced                                       4424 non-null   int64  \n",
      " 14  Educational special needs                       4424 non-null   int64  \n",
      " 15  Debtor                                          4424 non-null   int64  \n",
      " 16  Tuition fees up to date                         4424 non-null   int64  \n",
      " 17  Gender                                          4424 non-null   int64  \n",
      " 18  Scholarship holder                              4424 non-null   int64  \n",
      " 19  Age at enrollment                               4424 non-null   int64  \n",
      " 20  International                                   4424 non-null   int64  \n",
      " 21  Curricular units 1st sem (credited)             4424 non-null   int64  \n",
      " 22  Curricular units 1st sem (enrolled)             4424 non-null   int64  \n",
      " 23  Curricular units 1st sem (evaluations)          4424 non-null   int64  \n",
      " 24  Curricular units 1st sem (approved)             4424 non-null   int64  \n",
      " 25  Curricular units 1st sem (grade)                4424 non-null   float64\n",
      " 26  Curricular units 1st sem (without evaluations)  4424 non-null   int64  \n",
      " 27  Curricular units 2nd sem (credited)             4424 non-null   int64  \n",
      " 28  Curricular units 2nd sem (enrolled)             4424 non-null   int64  \n",
      " 29  Curricular units 2nd sem (evaluations)          4424 non-null   int64  \n",
      " 30  Curricular units 2nd sem (approved)             4424 non-null   int64  \n",
      " 31  Curricular units 2nd sem (grade)                4424 non-null   float64\n",
      " 32  Curricular units 2nd sem (without evaluations)  4424 non-null   int64  \n",
      " 33  Unemployment rate                               4424 non-null   float64\n",
      " 34  Inflation rate                                  4424 non-null   float64\n",
      " 35  GDP                                             4424 non-null   float64\n",
      " 36  Target                                          4424 non-null   object \n",
      "dtypes: float64(7), int64(29), object(1)\n",
      "memory usage: 1.2+ MB\n",
      "1421\n",
      "794\n",
      "2209\n",
      "0       0\n",
      "1       1\n",
      "2       0\n",
      "3       1\n",
      "4       1\n",
      "       ..\n",
      "4419    1\n",
      "4420    0\n",
      "4421    0\n",
      "4422    1\n",
      "4423    1\n",
      "Name: Target, Length: 3630, dtype: int64\n",
      "x_raw dimension:  (3630, 36)\n",
      "y_raw dimension:  (3630,)\n"
     ]
    }
   ],
   "source": [
    "#\n",
    "# 1. Data Preparation\n",
    "#\n",
    "\n",
    "df = pd.read_csv(\"./data/dropout.csv\", sep=\";\")\n",
    "df.info()\n",
    "\n",
    "# Target 데이터 분석 및 제거\n",
    "num_droupout = df.query('Target==\"Dropout\"')\n",
    "print(len(num_droupout))\n",
    "num_enrolled = df.query('Target==\"Enrolled\"')\n",
    "print(len(num_enrolled))\n",
    "num_graduated = df.query('Target==\"Graduate\"')\n",
    "print(len(num_graduated))\n",
    "\n",
    "# Enrolled 데이타 삭제 (pending)\n",
    "df = df.drop(df[df['Target'] == \"Enrolled\"].index)\n",
    "\n",
    "# pandas dataframe replace (from https://heytech.tistory.com/441)\n",
    "df[\"Target\"].replace({'Dropout':0, 'Graduate':1}, inplace = True)\n",
    "print(df[\"Target\"])\n",
    "\n",
    "X_raw = df.values[:,:-1]\n",
    "y_raw = df.values[:,-1]\n",
    "\n",
    "print(\"x_raw dimension: \", X_raw.shape)\n",
    "print(\"y_raw dimension: \", y_raw.shape)"
   ]
  },
  {
   "cell_type": "code",
   "execution_count": 3,
   "id": "a3448933-9f2a-49d4-ae46-1b44578a874a",
   "metadata": {
    "tags": []
   },
   "outputs": [],
   "source": [
    "#\n",
    "# 1.1 Tensor Data Type (Pytorch)\n",
    "#\n",
    "\n",
    "#X_raw = torch.tensor(X_raw, dtype=torch.float32)\n",
    "#y_raw = torch.tensor(y_raw, dtype=torch.float32).reshape(-1, 1)"
   ]
  },
  {
   "cell_type": "code",
   "execution_count": 4,
   "id": "3c2bdcf5-68b5-454c-8044-e88a48a181f9",
   "metadata": {
    "tags": []
   },
   "outputs": [
    {
     "name": "stdout",
     "output_type": "stream",
     "text": [
      "(2904, 2)\n",
      "(726, 2)\n"
     ]
    }
   ],
   "source": [
    "#\n",
    "# 1.2 Split train and test sets\n",
    "#\n",
    "\n",
    "# data type change \n",
    "#y_raw = y_raw.astype(int)\n",
    "\n",
    "X_train, X_test, y_train, y_test = train_test_split(X_raw, y_raw, stratify=y_raw, test_size=0.2, random_state=RANDOM_SEED)\n",
    "\n",
    "scaler = MinMaxScaler()\n",
    "\n",
    "X_train_scaled = scaler.fit_transform(X_train)\n",
    "X_test_scaled = scaler.transform(X_test)\n",
    "\n",
    "one_hot = OneHotEncoder()\n",
    "\n",
    "y_train_hot = one_hot.fit_transform(y_train.reshape(-1, 1)).todense()\n",
    "y_test_hot = one_hot.transform(y_test.reshape(-1, 1)).todense()\n",
    "\n",
    "# print # of X_train\n",
    "print(y_train_hot.shape)\n",
    "print(y_test_hot.shape)"
   ]
  },
  {
   "cell_type": "code",
   "execution_count": 5,
   "id": "801ab825-affd-47ed-b649-c7a23c5758d2",
   "metadata": {
    "tags": []
   },
   "outputs": [],
   "source": [
    "#\n",
    "# 1.3 Helper Function (Pytorch)\n",
    "# "
   ]
  },
  {
   "cell_type": "code",
   "execution_count": 6,
   "id": "be3f504a-0bde-4579-b446-ccd813722597",
   "metadata": {
    "tags": []
   },
   "outputs": [],
   "source": [
    "# \n",
    "# 1.4 NN Class (mlrose-hiive)\n",
    "#"
   ]
  },
  {
   "cell_type": "code",
   "execution_count": 7,
   "id": "0c699f3b-2c11-425f-a69e-c3b54725f67a",
   "metadata": {
    "tags": []
   },
   "outputs": [
    {
     "name": "stdout",
     "output_type": "stream",
     "text": [
      "1 400 100 0.05 0.39151641046946406 0.39118457300275483 1.360982416999999\n",
      "1 2000 100 0.05 0.39187429521039824 0.39118457300275483 1.3904567500000002\n",
      "5 400 100 0.05 0.39187429521039824 0.39118457300275483 7.353772875000001\n",
      "5 2000 100 0.05 0.39152531307495997 0.39118457300275483 7.33661\n",
      "10 400 100 0.05 0.391536589708588 0.39118457300275483 20.212600958000003\n",
      "10 2000 100 0.05 0.39152650008902606 0.39118457300275483 17.301983999999997\n",
      "20 400 100 0.05 0.3915312481452905 0.39118457300275483 68.382317541\n",
      "20 2000 100 0.05 0.3915318416523236 0.39118457300275483 63.861331417\n",
      "1 400 200 0.05 0.391535996201555 0.39118457300275483 2.993848583000016\n",
      "1 2000 200 0.05 0.39152531307495997 0.39118457300275483 3.893297582999992\n",
      "5 400 200 0.05 0.3915276871030922 0.39118457300275483 13.873726041999987\n",
      "5 2000 200 0.05 0.39118523354501755 0.39118457300275483 15.62275704199999\n",
      "10 400 200 0.05 0.3915318416523236 0.39118457300275483 46.613379958999985\n",
      "10 2000 200 0.05 0.3915181909905633 0.39118457300275483 32.36959433300001\n",
      "20 400 200 0.05 0.3915354026945219 0.39118457300275483 117.07043700000003\n",
      "20 2000 200 0.05 0.3915312481452905 0.39118457300275483 143.04788050000002\n",
      "1 400 300 0.05 0.3915223455397947 0.39118457300275483 5.506784375000052\n",
      "1 2000 300 0.05 0.39119888420677784 0.39118457300275483 5.800972750000028\n",
      "5 400 300 0.05 0.391525906581993 0.39118457300275483 29.703972625000006\n",
      "5 2000 300 0.05 0.39152828061012523 0.39118457300275483 23.798202167\n",
      "10 400 300 0.05 0.39152531307495997 0.39118457300275483 61.45688587500001\n",
      "10 2000 300 0.05 0.39152293904682767 0.39118457300275483 46.32677816700004\n",
      "20 400 300 0.05 0.39152828061012523 0.39118457300275483 191.29827450000005\n",
      "20 2000 300 0.05 0.39151522345539796 0.39118457300275483 174.81001349999997\n",
      "1 400 100 0.1 0.3918784497596296 0.39118457300275483 1.3079889170001024\n",
      "1 2000 100 0.1 0.39188379132292717 0.39118457300275483 1.3131336250000913\n",
      "5 400 100 0.1 0.39188379132292717 0.39118457300275483 4.421091458000092\n",
      "5 2000 100 0.1 0.3918784497596296 0.39118457300275483 3.4622226670001055\n",
      "10 400 100 0.1 0.392909371476052 0.39118457300275483 18.26767791600014\n",
      "10 2000 100 0.1 0.39152946762419133 0.39118457300275483 15.32531062499993\n",
      "20 400 100 0.1 0.39152531307495997 0.39118457300275483 41.62277412499998\n",
      "20 2000 100 0.1 0.39152887411715825 0.39118457300275483 37.64056116699999\n",
      "1 400 200 0.1 0.3915306546382575 0.39118457300275483 4.03910254099992\n",
      "1 2000 200 0.1 0.39117751795358774 0.39118457300275483 3.8669676249999156\n",
      "5 400 200 0.1 0.39118167250281916 0.39118457300275483 15.368644041000152\n",
      "5 2000 200 0.1 0.3915336221734228 0.39118457300275483 11.163960374999988\n",
      "10 400 200 0.1 0.39084574752210816 0.39118457300275483 36.31542395800011\n",
      "10 2000 200 0.1 0.39118285951688525 0.39118457300275483 30.50104245899979\n",
      "20 400 200 0.1 0.3918802302807288 0.39118457300275483 78.48893924999993\n",
      "20 2000 200 0.1 0.3915342156804558 0.39118457300275483 76.20573612500016\n",
      "1 400 300 0.1 0.391190575108315 0.39118457300275483 5.383247875000052\n",
      "1 2000 300 0.1 0.3918600510416049 0.39118457300275483 4.593440792000138\n",
      "5 400 300 0.1 0.39359546560626746 0.39118457300275483 16.38425783400021\n",
      "5 2000 300 0.1 0.39151700397649714 0.39118457300275483 13.485381624999945\n",
      "10 400 300 0.1 0.391526500089026 0.39118457300275483 27.394355583000106\n",
      "10 2000 300 0.1 0.3946275743367559 0.39118457300275483 36.06028479099996\n",
      "20 400 300 0.1 0.39153777672265416 0.39118457300275483 114.60576062500013\n",
      "20 2000 300 0.1 0.39151819099056323 0.39118457300275483 100.3644405\n",
      "1 400 100 0.2 0.39153243515935665 0.39118457300275483 1.3162537499999871\n",
      "1 2000 100 0.2 0.39152828061012523 0.39118457300275483 1.2902043750000303\n",
      "5 400 100 0.2 0.39152828061012523 0.39118457300275483 4.49248549999993\n",
      "5 2000 100 0.2 0.3915128494272657 0.39118457300275483 5.196523708999848\n",
      "10 400 100 0.2 0.39187548222446433 0.39118457300275483 12.461486625000134\n",
      "10 2000 100 0.2 0.39152234553979465 0.39118457300275483 7.701174333000154\n",
      "20 400 100 0.2 0.39118107899578614 0.39118457300275483 17.01718562499991\n",
      "20 2000 100 0.2 0.3915306546382574 0.39118457300275483 25.704488583000057\n",
      "1 400 200 0.2 0.3922375215146299 0.3939393939393939 2.604213082999877\n",
      "1 2000 200 0.2 0.3922167487684729 0.3939393939393939 2.5473013330001777\n",
      "5 400 200 0.2 0.39118285951688525 0.39118457300275483 12.410336833000201\n",
      "5 2000 200 0.2 0.39153896373672026 0.39118457300275483 13.483980333999853\n",
      "10 400 200 0.2 0.39118167250281916 0.39118457300275483 30.75517279199994\n",
      "10 2000 200 0.2 0.3915371832156211 0.39118457300275483 22.952039125000056\n",
      "20 400 200 0.2 0.39152887411715825 0.39118457300275483 64.54386329099998\n",
      "20 2000 200 0.2 0.39117989198171993 0.39118457300275483 50.54771924999977\n",
      "1 400 300 0.2 0.39152175203276157 0.39118457300275483 4.605001041999913\n",
      "1 2000 300 0.2 0.3915193780046294 0.39118457300275483 4.606786374999956\n",
      "5 400 300 0.2 0.3915193780046294 0.39118457300275483 15.775146499999664\n",
      "5 2000 300 0.2 0.3915211585257285 0.39118457300275483 25.728445833000023\n",
      "10 400 300 0.2 0.39152828061012523 0.39118457300275483 46.41083137500027\n",
      "10 2000 300 0.2 0.39152828061012523 0.39118457300275483 29.859116290999737\n",
      "20 400 300 0.2 0.3915407442578195 0.39118457300275483 73.17018499999995\n",
      "20 2000 300 0.2 0.39152175203276157 0.39118457300275483 90.69864312500022\n"
     ]
    }
   ],
   "source": [
    "#\n",
    "# 2. Learning Curve\n",
    "#\n",
    "\n",
    "max_attempts = [ 1, 5, 10, 20]\n",
    "\n",
    "#max_iters = [200, 400, 600, 800, 1000, 1200, 1400, 1600, 1800, 2000]\n",
    "#pop_sizes = [100, 200, 300, 400, 500] #default: 200\n",
    "#mutation_probs = [0.05, 0.1, 0.2, 0.3, 0.4] #default: 0.1\n",
    "max_iters = [400, 2000]\n",
    "pop_sizes = [100, 200, 300] #default: 200\n",
    "mutation_probs = [0.05, 0.1, 0.2] #default: 0.1\n",
    "\n",
    "results_column = [\"max_attempts\", \"max_iters\", \"pop_sizes\", \"mutation_probs\", \"accuracy_train\", \"accuracy_test\", \"train_time\"]\n",
    "results_list = []\n",
    "results_df = pd.DataFrame(columns=results_column)\n",
    "\n",
    "for mutation_prob in mutation_probs: \n",
    "    for pop_size in pop_sizes:\n",
    "        for max_attempt in max_attempts:\n",
    "            for max_iter in max_iters:\n",
    "                \n",
    "                kfold = KFold(n_splits=5, shuffle=True)\n",
    "                cv_scores  = []\n",
    "            \n",
    "                start_time = time.perf_counter()\n",
    "                nn_model = mlrose_hiive.NeuralNetwork(hidden_nodes = [2], \n",
    "                                                  activation = 'relu' ,\n",
    "                                                  algorithm = 'genetic_alg',\n",
    "                                                  is_classifier = True,\n",
    "                                                  early_stopping = True,\n",
    "                                                  random_state = RANDOM_SEED,\n",
    "                                                  max_attempts = max_attempt,\n",
    "                                                  max_iters = max_iter,\n",
    "                                                  pop_size = pop_size, \n",
    "                                                  mutation_prob = mutation_prob)\n",
    "\n",
    "                for train, validate in kfold.split(X_train_scaled, y_train_hot):\n",
    "                    nn_model.fit(X_train_scaled[train], y_train_hot[train])\n",
    "                    y_pred_hot = nn_model.predict(X_train_scaled[validate])\n",
    "                    accuracy = mt.accuracy_score(np.asarray(y_pred_hot), np.asarray(y_train_hot[validate]))\n",
    "                    cv_scores.append(accuracy)\n",
    "            \n",
    "                train_time = time.perf_counter() - start_time\n",
    "\n",
    "                accuracy_train = np.mean(cv_scores)\n",
    "    \n",
    "                with torch.no_grad():\n",
    "                    y_pred_hot = nn_model.predict(X_test_scaled)\n",
    "                accuracy_test = mt.accuracy_score(np.asarray(y_test_hot), np.asarray(y_pred_hot))\n",
    "            \n",
    "                results_df.loc[len(results_df.index)] = [max_attempt, max_iter, pop_size, mutation_prob, accuracy_train, accuracy_test, train_time]\n",
    "                print(max_attempt, max_iter, pop_size, mutation_prob, accuracy_train, accuracy_test, train_time)"
   ]
  },
  {
   "cell_type": "code",
   "execution_count": 8,
   "id": "b5719a95-635b-4cae-9a74-7e4c01ce4cf9",
   "metadata": {
    "tags": []
   },
   "outputs": [
    {
     "name": "stdout",
     "output_type": "stream",
     "text": [
      "Best Test Accuracy: \n",
      " max_attempts        1.000000\n",
      "max_iters         400.000000\n",
      "pop_sizes         200.000000\n",
      "mutation_probs      0.200000\n",
      "accuracy_train      0.392238\n",
      "accuracy_test       0.393939\n",
      "train_time          2.604213\n",
      "Name: 56, dtype: float64\n"
     ]
    }
   ],
   "source": [
    "#print(results_df)\n",
    "print(\"Best Test Accuracy: \\n\", results_df.loc[results_df['accuracy_test'].idxmax()])  "
   ]
  },
  {
   "cell_type": "code",
   "execution_count": 9,
   "id": "9e2ed87b-b42e-44a5-a8b0-a178bce1ead0",
   "metadata": {
    "tags": []
   },
   "outputs": [],
   "source": [
    "results_df.to_csv('nn_genetic_algorithm.csv')"
   ]
  },
  {
   "cell_type": "code",
   "execution_count": null,
   "id": "37bd444b-1f24-4c22-a5af-c61413a8e1e6",
   "metadata": {},
   "outputs": [],
   "source": []
  }
 ],
 "metadata": {
  "kernelspec": {
   "display_name": "Python 3 (ipykernel)",
   "language": "python",
   "name": "python3"
  },
  "language_info": {
   "codemirror_mode": {
    "name": "ipython",
    "version": 3
   },
   "file_extension": ".py",
   "mimetype": "text/x-python",
   "name": "python",
   "nbconvert_exporter": "python",
   "pygments_lexer": "ipython3",
   "version": "3.9.18"
  }
 },
 "nbformat": 4,
 "nbformat_minor": 5
}
