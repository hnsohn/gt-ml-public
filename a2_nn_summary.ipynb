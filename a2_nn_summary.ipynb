{
 "cells": [
  {
   "cell_type": "markdown",
   "id": "3e95d094-a0ce-467a-9d50-26308034dd30",
   "metadata": {},
   "source": [
    "# CS 7641 Machine Learning\n",
    "# Assignment 2 Randomized Optimization\n",
    "\n",
    "## Neural Network Weight Optimization : SUMMARY"
   ]
  },
  {
   "cell_type": "code",
   "execution_count": 7,
   "id": "e10c2746-8b52-4d0c-8cfa-d18e70788020",
   "metadata": {
    "tags": []
   },
   "outputs": [],
   "source": [
    "#\n",
    "# 0. Import Packages\n",
    "#\n",
    "\n",
    "RANDOM_SEED = 27\n",
    "\n",
    "# Math tools for ML\n",
    "import numpy as np\n",
    "import pandas as pd\n",
    "import math\n",
    "import time\n",
    "import copy\n",
    "from numpy import arange\n",
    "\n",
    "# Randomized Optimization \n",
    "import mlrose_hiive\n",
    "\n",
    "# Progress bar\n",
    "#from tqdm import tqdm\n",
    "\n",
    "# Graph visualization\n",
    "import matplotlib.pyplot as plt\n",
    "\n",
    "# Data Preparation\n",
    "from sklearn.model_selection import train_test_split\n",
    "from sklearn.model_selection import StratifiedKFold\n",
    "from sklearn.model_selection import KFold\n",
    "\n",
    "from sklearn.preprocessing import MinMaxScaler, OneHotEncoder\n",
    "\n",
    "import torch\n",
    "import torch.nn as nn\n",
    "#import torch.optim as optim\n",
    "#import tqdm\n",
    "\n",
    "from sklearn.model_selection import cross_val_score, cross_validate\n",
    "from sklearn.model_selection import StratifiedKFold\n",
    "\n",
    "# Model \n",
    "from sklearn.tree import DecisionTreeClassifier # Decision Tree\n",
    "from sklearn.ensemble import AdaBoostClassifier # Boosted Decision Tree\n",
    "from sklearn.svm import SVC # SVM\n",
    "from sklearn.neighbors import KNeighborsClassifier # KNN\n",
    "\n",
    "#from sklearn import tree\n",
    "\n",
    "import sklearn.metrics as mt\n",
    "from sklearn.metrics import roc_auc_score\n",
    "from sklearn.metrics import f1_score\n",
    "from sklearn.metrics import roc_curve\n",
    "from sklearn.preprocessing import StandardScaler\n"
   ]
  },
  {
   "cell_type": "code",
   "execution_count": 8,
   "id": "c620aedc-f268-4c0a-b683-db1fa5dbbb25",
   "metadata": {
    "tags": []
   },
   "outputs": [
    {
     "name": "stdout",
     "output_type": "stream",
     "text": [
      "<class 'pandas.core.frame.DataFrame'>\n",
      "RangeIndex: 4424 entries, 0 to 4423\n",
      "Data columns (total 37 columns):\n",
      " #   Column                                          Non-Null Count  Dtype  \n",
      "---  ------                                          --------------  -----  \n",
      " 0   Marital status                                  4424 non-null   int64  \n",
      " 1   Application mode                                4424 non-null   int64  \n",
      " 2   Application order                               4424 non-null   int64  \n",
      " 3   Course                                          4424 non-null   int64  \n",
      " 4   Daytime/evening attendance\t                     4424 non-null   int64  \n",
      " 5   Previous qualification                          4424 non-null   int64  \n",
      " 6   Previous qualification (grade)                  4424 non-null   float64\n",
      " 7   Nacionality                                     4424 non-null   int64  \n",
      " 8   Mother's qualification                          4424 non-null   int64  \n",
      " 9   Father's qualification                          4424 non-null   int64  \n",
      " 10  Mother's occupation                             4424 non-null   int64  \n",
      " 11  Father's occupation                             4424 non-null   int64  \n",
      " 12  Admission grade                                 4424 non-null   float64\n",
      " 13  Displaced                                       4424 non-null   int64  \n",
      " 14  Educational special needs                       4424 non-null   int64  \n",
      " 15  Debtor                                          4424 non-null   int64  \n",
      " 16  Tuition fees up to date                         4424 non-null   int64  \n",
      " 17  Gender                                          4424 non-null   int64  \n",
      " 18  Scholarship holder                              4424 non-null   int64  \n",
      " 19  Age at enrollment                               4424 non-null   int64  \n",
      " 20  International                                   4424 non-null   int64  \n",
      " 21  Curricular units 1st sem (credited)             4424 non-null   int64  \n",
      " 22  Curricular units 1st sem (enrolled)             4424 non-null   int64  \n",
      " 23  Curricular units 1st sem (evaluations)          4424 non-null   int64  \n",
      " 24  Curricular units 1st sem (approved)             4424 non-null   int64  \n",
      " 25  Curricular units 1st sem (grade)                4424 non-null   float64\n",
      " 26  Curricular units 1st sem (without evaluations)  4424 non-null   int64  \n",
      " 27  Curricular units 2nd sem (credited)             4424 non-null   int64  \n",
      " 28  Curricular units 2nd sem (enrolled)             4424 non-null   int64  \n",
      " 29  Curricular units 2nd sem (evaluations)          4424 non-null   int64  \n",
      " 30  Curricular units 2nd sem (approved)             4424 non-null   int64  \n",
      " 31  Curricular units 2nd sem (grade)                4424 non-null   float64\n",
      " 32  Curricular units 2nd sem (without evaluations)  4424 non-null   int64  \n",
      " 33  Unemployment rate                               4424 non-null   float64\n",
      " 34  Inflation rate                                  4424 non-null   float64\n",
      " 35  GDP                                             4424 non-null   float64\n",
      " 36  Target                                          4424 non-null   object \n",
      "dtypes: float64(7), int64(29), object(1)\n",
      "memory usage: 1.2+ MB\n",
      "1421\n",
      "794\n",
      "2209\n",
      "0       0\n",
      "1       1\n",
      "2       0\n",
      "3       1\n",
      "4       1\n",
      "       ..\n",
      "4419    1\n",
      "4420    0\n",
      "4421    0\n",
      "4422    1\n",
      "4423    1\n",
      "Name: Target, Length: 3630, dtype: int64\n",
      "x_raw dimension:  (3630, 36)\n",
      "y_raw dimension:  (3630,)\n"
     ]
    }
   ],
   "source": [
    "#\n",
    "# 1. Data Preparation\n",
    "#\n",
    "\n",
    "df = pd.read_csv(\"./data/dropout.csv\", sep=\";\")\n",
    "df.info()\n",
    "\n",
    "# Target 데이터 분석 및 제거\n",
    "num_droupout = df.query('Target==\"Dropout\"')\n",
    "print(len(num_droupout))\n",
    "num_enrolled = df.query('Target==\"Enrolled\"')\n",
    "print(len(num_enrolled))\n",
    "num_graduated = df.query('Target==\"Graduate\"')\n",
    "print(len(num_graduated))\n",
    "\n",
    "# Enrolled 데이타 삭제 (pending)\n",
    "df = df.drop(df[df['Target'] == \"Enrolled\"].index)\n",
    "\n",
    "# pandas dataframe replace (from https://heytech.tistory.com/441)\n",
    "df[\"Target\"].replace({'Dropout':0, 'Graduate':1}, inplace = True)\n",
    "print(df[\"Target\"])\n",
    "\n",
    "X_raw = df.values[:,:-1]\n",
    "y_raw = df.values[:,-1]\n",
    "\n",
    "print(\"x_raw dimension: \", X_raw.shape)\n",
    "print(\"y_raw dimension: \", y_raw.shape)"
   ]
  },
  {
   "cell_type": "code",
   "execution_count": 15,
   "id": "246a060c-6688-4731-9d53-7db4292ecfda",
   "metadata": {
    "tags": []
   },
   "outputs": [
    {
     "name": "stdout",
     "output_type": "stream",
     "text": [
      "(2904, 2)\n",
      "(726, 2)\n"
     ]
    }
   ],
   "source": [
    "#\n",
    "# 1.2 Split train and test sets\n",
    "#\n",
    "\n",
    "# data type change \n",
    "#y_raw = y_raw.astype(int)\n",
    "\n",
    "X_train, X_test, y_train, y_test = train_test_split(X_raw, y_raw, stratify=y_raw, test_size=0.2, random_state=RANDOM_SEED)\n",
    "\n",
    "scaler = MinMaxScaler()\n",
    "\n",
    "X_train_scaled = scaler.fit_transform(X_train)\n",
    "X_test_scaled = scaler.transform(X_test)\n",
    "\n",
    "one_hot = OneHotEncoder()\n",
    "\n",
    "y_train_hot = one_hot.fit_transform(y_train.reshape(-1, 1)).todense()\n",
    "y_test_hot = one_hot.transform(y_test.reshape(-1, 1)).todense()\n",
    "\n",
    "# print # of X_train\n",
    "print(y_train_hot.shape)\n",
    "print(y_test_hot.shape)"
   ]
  },
  {
   "cell_type": "code",
   "execution_count": 16,
   "id": "de3473d4-1935-49ec-846a-2bdf3a270824",
   "metadata": {
    "tags": []
   },
   "outputs": [],
   "source": [
    "max_attempts = [ 1, 5, 10, 15, 20]\n",
    "\n",
    "blanks = [0 for i in range(len(max_attempts))]\n",
    "\n",
    "data = { \"Max_attempts\": max_attempts, \n",
    "        \"RHC\": blanks,\n",
    "        \"SA\": blanks, \n",
    "        \"GA\": blanks,\n",
    "       }\n",
    "\n",
    "accuracy_df = pd.DataFrame(data)\n",
    "duration_df = pd.DataFrame(data)"
   ]
  },
  {
   "cell_type": "code",
   "execution_count": 19,
   "id": "2b53a13b-0f20-4629-be77-1917329f36f0",
   "metadata": {
    "tags": []
   },
   "outputs": [
    {
     "name": "stdout",
     "output_type": "stream",
     "text": [
      "max_attempt:  1 accuracy_test:  0.6349862258953168 train_time:  0.8685930829997233\n",
      "max_attempt:  5 accuracy_test:  0.6955922865013774 train_time:  12.338534791999791\n",
      "max_attempt:  10 accuracy_test:  0.8801652892561983 train_time:  197.41445162499986\n",
      "max_attempt:  15 accuracy_test:  0.8856749311294766 train_time:  479.9132156249998\n",
      "max_attempt:  20 accuracy_test:  0.8925619834710744 train_time:  543.2704136670009\n",
      "   Max_attempts       RHC  SA  GA\n",
      "0             1  0.634986   0   0\n",
      "1             5  0.695592   0   0\n",
      "2            10  0.880165   0   0\n",
      "3            15  0.885675   0   0\n",
      "4            20  0.892562   0   0\n",
      "   Max_attempts         RHC  SA  GA\n",
      "0             1    0.868593   0   0\n",
      "1             5   12.338535   0   0\n",
      "2            10  197.414452   0   0\n",
      "3            15  479.913216   0   0\n",
      "4            20  543.270414   0   0\n"
     ]
    }
   ],
   "source": [
    "# Randomized Hill Climbing\n",
    "\n",
    "# best parameters\n",
    "max_iter = 2000\n",
    "restart = 40\n",
    "\n",
    "for max_attempt in max_attempts:\n",
    "    start_time = time.perf_counter()\n",
    "    kfold = KFold(n_splits=5, shuffle=True)\n",
    "    cv_scores  = []\n",
    "            \n",
    "    start_time = time.perf_counter()\n",
    "    nn_model = mlrose_hiive.NeuralNetwork(hidden_nodes = [2], \n",
    "                                                  activation = 'relu' ,\n",
    "                                                  algorithm = 'random_hill_climb',\n",
    "                                                  is_classifier = True,\n",
    "                                                  early_stopping = True,\n",
    "                                                  random_state = RANDOM_SEED,\n",
    "                                                  max_attempts = max_attempt,\n",
    "                                                  max_iters = max_iter,\n",
    "                                                  restarts = restart)\n",
    "\n",
    "    for train, validate in kfold.split(X_train_scaled, y_train_hot):\n",
    "        nn_model.fit(X_train_scaled[train], y_train_hot[train])\n",
    "        y_pred_hot = nn_model.predict(X_train_scaled[validate])\n",
    "        accuracy = mt.accuracy_score(np.asarray(y_pred_hot), np.asarray(y_train_hot[validate]))\n",
    "        cv_scores.append(accuracy)\n",
    "            \n",
    "    train_time = time.perf_counter() - start_time\n",
    "\n",
    "    accuracy_train = np.mean(cv_scores)\n",
    "    \n",
    "    with torch.no_grad():\n",
    "        y_pred_hot = nn_model.predict(X_test_scaled)\n",
    "    accuracy_test = mt.accuracy_score(np.asarray(y_test_hot), np.asarray(y_pred_hot))\n",
    "        \n",
    "    accuracy_df.loc[accuracy_df[\"Max_attempts\"] == max_attempt, \"RHC\"] = accuracy_test\n",
    "    duration_df.loc[duration_df[\"Max_attempts\"] == max_attempt, \"RHC\"] = train_time\n",
    "    print(\"max_attempt: \", max_attempt, \"accuracy_test: \", accuracy_test, \"train_time: \", train_time)\n",
    "\n",
    "print(accuracy_df)\n",
    "print(duration_df)\n",
    "\n",
    "accuracy_df.to_csv('nn_summary_accuracy.csv')\n",
    "duration_df.to_csv('nn_summary_duration.csv')\n"
   ]
  },
  {
   "cell_type": "code",
   "execution_count": 21,
   "id": "49c3575a-9147-4712-8586-ce3ac9f0f8a1",
   "metadata": {
    "tags": []
   },
   "outputs": [
    {
     "name": "stdout",
     "output_type": "stream",
     "text": [
      "max_attempt:  1 accuracy_test:  0.5523415977961432 train_time:  1.9568966670003647\n",
      "max_attempt:  5 accuracy_test:  0.7975206611570248 train_time:  19.960453000000598\n",
      "max_attempt:  10 accuracy_test:  0.8126721763085399 train_time:  18.937802624999676\n",
      "max_attempt:  15 accuracy_test:  0.8071625344352618 train_time:  19.76194279200081\n",
      "max_attempt:  20 accuracy_test:  0.7988980716253443 train_time:  20.67739524999979\n",
      "   Max_attempts       RHC        SA        GA\n",
      "0             1  0.634986  0.552342  0.391185\n",
      "1             5  0.695592  0.797521  0.391185\n",
      "2            10  0.880165  0.812672  0.000000\n",
      "3            15  0.885675  0.807163  0.000000\n",
      "4            20  0.892562  0.798898  0.000000\n",
      "   Max_attempts         RHC         SA         GA\n",
      "0             1    0.868593   1.956897   3.457757\n",
      "1             5   12.338535  19.960453  18.666379\n",
      "2            10  197.414452  18.937803   0.000000\n",
      "3            15  479.913216  19.761943   0.000000\n",
      "4            20  543.270414  20.677395   0.000000\n"
     ]
    }
   ],
   "source": [
    "# Simulated Annealing\n",
    "\n",
    "# best parameters\n",
    "max_iter = 2000\n",
    "\n",
    "for max_attempt in max_attempts:\n",
    "    start_time = time.perf_counter()\n",
    "    kfold = KFold(n_splits=5, shuffle=True)\n",
    "    cv_scores  = []\n",
    "            \n",
    "    start_time = time.perf_counter()\n",
    "    nn_model = mlrose_hiive.NeuralNetwork(hidden_nodes = [2], \n",
    "                                                  activation = 'relu' ,\n",
    "                                                  algorithm = 'simulated_annealing',\n",
    "                                                  is_classifier = True,\n",
    "                                                  early_stopping = True,\n",
    "                                                  random_state = RANDOM_SEED,\n",
    "                                                  max_attempts = max_attempt,\n",
    "                                                  max_iters = max_iter)\n",
    "\n",
    "    for train, validate in kfold.split(X_train_scaled, y_train_hot):\n",
    "        nn_model.fit(X_train_scaled[train], y_train_hot[train])\n",
    "        y_pred_hot = nn_model.predict(X_train_scaled[validate])\n",
    "        accuracy = mt.accuracy_score(np.asarray(y_pred_hot), np.asarray(y_train_hot[validate]))\n",
    "        cv_scores.append(accuracy)\n",
    "            \n",
    "    train_time = time.perf_counter() - start_time\n",
    "\n",
    "    accuracy_train = np.mean(cv_scores)\n",
    "    \n",
    "    with torch.no_grad():\n",
    "        y_pred_hot = nn_model.predict(X_test_scaled)\n",
    "    accuracy_test = mt.accuracy_score(np.asarray(y_test_hot), np.asarray(y_pred_hot))\n",
    "        \n",
    "    accuracy_df.loc[accuracy_df[\"Max_attempts\"] == max_attempt, \"SA\"] = accuracy_test\n",
    "    duration_df.loc[duration_df[\"Max_attempts\"] == max_attempt, \"SA\"] = train_time\n",
    "    print(\"max_attempt: \", max_attempt, \"accuracy_test: \", accuracy_test, \"train_time: \", train_time)\n",
    "\n",
    "print(accuracy_df)\n",
    "print(duration_df)\n",
    "\n",
    "accuracy_df.to_csv('nn_summary_accuracy.csv')\n",
    "duration_df.to_csv('nn_summary_duration.csv')\n"
   ]
  },
  {
   "cell_type": "code",
   "execution_count": 23,
   "id": "216fff7b-c349-4096-81dc-ef3eeb4c7f25",
   "metadata": {},
   "outputs": [
    {
     "name": "stdout",
     "output_type": "stream",
     "text": [
      "max_attempt:  1 accuracy_test:  0.3939393939393939 train_time:  3.309625416999552\n",
      "max_attempt:  5 accuracy_test:  0.39118457300275483 train_time:  14.654742916000032\n",
      "max_attempt:  10 accuracy_test:  0.39118457300275483 train_time:  24.22465345799992\n",
      "max_attempt:  15 accuracy_test:  0.39118457300275483 train_time:  60.81108670799949\n",
      "max_attempt:  20 accuracy_test:  0.39118457300275483 train_time:  59.303436999999576\n",
      "   Max_attempts       RHC        SA        GA\n",
      "0             1  0.634986  0.552342  0.393939\n",
      "1             5  0.695592  0.797521  0.391185\n",
      "2            10  0.880165  0.812672  0.391185\n",
      "3            15  0.885675  0.807163  0.391185\n",
      "4            20  0.892562  0.798898  0.391185\n",
      "   Max_attempts         RHC         SA         GA\n",
      "0             1    0.868593   1.956897   3.309625\n",
      "1             5   12.338535  19.960453  14.654743\n",
      "2            10  197.414452  18.937803  24.224653\n",
      "3            15  479.913216  19.761943  60.811087\n",
      "4            20  543.270414  20.677395  59.303437\n"
     ]
    }
   ],
   "source": [
    "# Genetic Algorithm\n",
    "\n",
    "# best parameters\n",
    "max_iter = 2000\n",
    "mutation_prob = 0.20\n",
    "pop_size = 200\n",
    "\n",
    "for max_attempt in max_attempts:\n",
    "    start_time = time.perf_counter()\n",
    "    kfold = KFold(n_splits=5, shuffle=True)\n",
    "    cv_scores  = []\n",
    "            \n",
    "    start_time = time.perf_counter()\n",
    "    nn_model = mlrose_hiive.NeuralNetwork(hidden_nodes = [2], \n",
    "                                                  activation = 'relu' ,\n",
    "                                                  algorithm = 'genetic_alg',\n",
    "                                                  is_classifier = True,\n",
    "                                                  early_stopping = True,\n",
    "                                                  random_state = RANDOM_SEED,\n",
    "                                                  max_attempts = max_attempt,\n",
    "                                                  max_iters = max_iter,\n",
    "                                                 mutation_prob = mutation_prob, \n",
    "                                                 pop_size = pop_size)\n",
    "\n",
    "    for train, validate in kfold.split(X_train_scaled, y_train_hot):\n",
    "        nn_model.fit(X_train_scaled[train], y_train_hot[train])\n",
    "        y_pred_hot = nn_model.predict(X_train_scaled[validate])\n",
    "        accuracy = mt.accuracy_score(np.asarray(y_pred_hot), np.asarray(y_train_hot[validate]))\n",
    "        cv_scores.append(accuracy)\n",
    "            \n",
    "    train_time = time.perf_counter() - start_time\n",
    "\n",
    "    accuracy_train = np.mean(cv_scores)\n",
    "    \n",
    "    with torch.no_grad():\n",
    "        y_pred_hot = nn_model.predict(X_test_scaled)\n",
    "    accuracy_test = mt.accuracy_score(np.asarray(y_test_hot), np.asarray(y_pred_hot))\n",
    "        \n",
    "    accuracy_df.loc[accuracy_df[\"Max_attempts\"] == max_attempt, \"GA\"] = accuracy_test\n",
    "    duration_df.loc[duration_df[\"Max_attempts\"] == max_attempt, \"GA\"] = train_time\n",
    "    print(\"max_attempt: \", max_attempt, \"accuracy_test: \", accuracy_test, \"train_time: \", train_time)\n",
    "\n",
    "print(accuracy_df)\n",
    "print(duration_df)\n",
    "\n",
    "accuracy_df.to_csv('nn_summary_accuracy.csv')\n",
    "duration_df.to_csv('nn_summary_duration.csv')\n"
   ]
  },
  {
   "cell_type": "code",
   "execution_count": 24,
   "id": "66addbbc-a983-453a-adf5-ec5e96d1df58",
   "metadata": {
    "tags": []
   },
   "outputs": [
    {
     "data": {
      "text/plain": [
       "<Figure size 640x480 with 0 Axes>"
      ]
     },
     "metadata": {},
     "output_type": "display_data"
    },
    {
     "data": {
      "image/png": "[encoded data removed]",
      "text/plain": [
       "<Figure size 640x480 with 1 Axes>"
      ]
     },
     "metadata": {},
     "output_type": "display_data"
    }
   ],
   "source": [
    "plt.style.use('default')\n",
    "plt.figure()\n",
    "\n",
    "accuracy_df.plot(x='Max_attempts')\n",
    "plt.legend(loc='lower right')\n",
    "plt.xlabel('Max Attempts')\n",
    "plt.ylabel('Accuracy')\n",
    "plt.ylim(0, 1.0)\n",
    "plt.title('NN Optimization Accuracy')\n",
    "plt.grid(True)\n",
    "\n",
    "plt.show()"
   ]
  },
  {
   "cell_type": "code",
   "execution_count": 25,
   "id": "6a735e12-e01d-495c-a149-261edeecf770",
   "metadata": {
    "tags": []
   },
   "outputs": [
    {
     "data": {
      "text/plain": [
       "<Figure size 640x480 with 0 Axes>"
      ]
     },
     "metadata": {},
     "output_type": "display_data"
    },
    {
     "data": {
      "image/png": "[encoded data removed]",
      "text/plain": [
       "<Figure size 640x480 with 1 Axes>"
      ]
     },
     "metadata": {},
     "output_type": "display_data"
    }
   ],
   "source": [
    "plt.style.use('default')\n",
    "plt.figure()\n",
    "\n",
    "duration_df.plot(x='Max_attempts')\n",
    "plt.legend(loc='upper right')\n",
    "plt.xlabel('Max Attempts')\n",
    "plt.ylabel('Train Time')\n",
    "#plt.ylim(50, 100)\n",
    "plt.title('NN Optimization Accuracy Train Time')\n",
    "plt.grid(True)\n",
    "\n",
    "plt.show()"
   ]
  },
  {
   "cell_type": "code",
   "execution_count": null,
   "id": "a93a677b-fd58-4fac-929d-ee970788884f",
   "metadata": {},
   "outputs": [],
   "source": []
  }
 ],
 "metadata": {
  "kernelspec": {
   "display_name": "Python 3 (ipykernel)",
   "language": "python",
   "name": "python3"
  },
  "language_info": {
   "codemirror_mode": {
    "name": "ipython",
    "version": 3
   },
   "file_extension": ".py",
   "mimetype": "text/x-python",
   "name": "python",
   "nbconvert_exporter": "python",
   "pygments_lexer": "ipython3",
   "version": "3.9.18"
  }
 },
 "nbformat": 4,
 "nbformat_minor": 5
}
