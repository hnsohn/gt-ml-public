{
 "cells": [
  {
   "cell_type": "markdown",
   "id": "3e95d094-a0ce-467a-9d50-26308034dd30",
   "metadata": {},
   "source": [
    "# CS 7641 Machine Learning\n",
    "# Assignment 2 Randomized Optimization\n",
    "\n",
    "## Knapsack : Randomized Hill Climbing"
   ]
  },
  {
   "cell_type": "code",
   "execution_count": 66,
   "id": "e10c2746-8b52-4d0c-8cfa-d18e70788020",
   "metadata": {
    "tags": []
   },
   "outputs": [],
   "source": [
    "import mlrose_hiive\n",
    "import numpy as np\n",
    "import pandas as pd\n",
    "import time\n",
    "import random\n",
    "\n",
    "import matplotlib.pyplot as plt\n",
    "\n",
    "RANDOM_SEED = 27"
   ]
  },
  {
   "cell_type": "code",
   "execution_count": 67,
   "id": "c620aedc-f268-4c0a-b683-db1fa5dbbb25",
   "metadata": {
    "tags": []
   },
   "outputs": [
    {
     "name": "stdout",
     "output_type": "stream",
     "text": [
      "weights:  [8, 5, 5, 4, 2, 2, 5, 9, 6, 5, 6, 7, 3, 4, 4, 8, 2, 10, 2, 10]\n",
      "values:  [7, 7, 1, 8, 6, 1, 8, 5, 3, 10, 6, 10, 4, 9, 3, 2, 7, 5, 1, 9]\n"
     ]
    }
   ],
   "source": [
    "num_items = 20\n",
    "\n",
    "random.seed(RANDOM_SEED)\n",
    "weights = [random.randint(1, 10) for _ in range(num_items)]\n",
    "values = [random.randint(1, 10) for _ in range(num_items)]\n",
    "print(\"weights: \", weights)\n",
    "print(\"values: \", values)\n",
    "max_weight_pct = 0.6"
   ]
  },
  {
   "cell_type": "code",
   "execution_count": 68,
   "id": "246a060c-6688-4731-9d53-7db4292ecfda",
   "metadata": {
    "tags": []
   },
   "outputs": [],
   "source": [
    "fitness = mlrose_hiive.Knapsack(weights, values, max_weight_pct)\n",
    "num_elements = len(weights)\n",
    "problem = mlrose_hiive.DiscreteOpt(length=num_elements, fitness_fn=fitness, maximize=True, max_val=2)"
   ]
  },
  {
   "cell_type": "code",
   "execution_count": 69,
   "id": "6fc8b6c6-eac1-4f1a-afdf-2a1f187fdcbf",
   "metadata": {
    "tags": []
   },
   "outputs": [
    {
     "name": "stdout",
     "output_type": "stream",
     "text": [
      "     max_attempts  max_iters  restarts  best_fitness  duration_time\n",
      "0             1.0      200.0       0.0          67.0       0.002961\n",
      "1             1.0      200.0      20.0          78.0       0.002168\n",
      "2             1.0      200.0      40.0          78.0       0.002322\n",
      "3             1.0      200.0      60.0          78.0       0.003985\n",
      "4             1.0      400.0       0.0          67.0       0.000122\n",
      "..            ...        ...       ...           ...            ...\n",
      "155          20.0     1800.0      60.0          85.0       0.015367\n",
      "156          20.0     2000.0       0.0          75.0       0.000357\n",
      "157          20.0     2000.0      20.0          85.0       0.005589\n",
      "158          20.0     2000.0      40.0          85.0       0.010831\n",
      "159          20.0     2000.0      60.0          85.0       0.015391\n",
      "\n",
      "[160 rows x 5 columns]\n",
      "Best Fitness: \n",
      " max_attempts      20.000000\n",
      "max_iters        200.000000\n",
      "restarts          20.000000\n",
      "best_fitness      85.000000\n",
      "duration_time      0.005645\n",
      "Name: 121, dtype: float64\n"
     ]
    }
   ],
   "source": [
    "results_column = [\"max_attempts\", \"max_iters\", \"restarts\", \"best_fitness\", \"duration_time\"]\n",
    "results_list = []\n",
    "results_df = pd.DataFrame(columns=results_column)\n",
    "\n",
    "max_attempts = [ 1, 5, 10, 20]\n",
    "max_iters = [200, 400, 600, 800, 1000, 1200, 1400, 1600, 1800, 2000]\n",
    "restarts = [0, 20, 40, 60]\n",
    "\n",
    "for max_attempt in max_attempts:\n",
    "    for max_iter in max_iters:\n",
    "        for restart in restarts: \n",
    "            start_time = time.perf_counter()\n",
    "            best_state, best_fitness, fitness_curve = mlrose_hiive.random_hill_climb(problem,\n",
    "                                                                                     max_attempts = max_attempt,\n",
    "                                                                                     max_iters = max_iter,\n",
    "                                                                                     restarts = restart,\n",
    "                                                                                     curve = False,\n",
    "                                                                                     random_state=RANDOM_SEED)\n",
    "            duration_time = time.perf_counter() - start_time\n",
    "            results_df.loc[len(results_df.index)] = [max_attempt, max_iter, restart, best_fitness, duration_time]\n",
    "\n",
    "print(results_df)\n",
    "        \n",
    "print(\"Best Fitness: \\n\", results_df.loc[results_df['best_fitness'].idxmax()])        \n",
    "        "
   ]
  },
  {
   "cell_type": "code",
   "execution_count": null,
   "id": "216fff7b-c349-4096-81dc-ef3eeb4c7f25",
   "metadata": {},
   "outputs": [],
   "source": []
  }
 ],
 "metadata": {
  "kernelspec": {
   "display_name": "Python 3 (ipykernel)",
   "language": "python",
   "name": "python3"
  },
  "language_info": {
   "codemirror_mode": {
    "name": "ipython",
    "version": 3
   },
   "file_extension": ".py",
   "mimetype": "text/x-python",
   "name": "python",
   "nbconvert_exporter": "python",
   "pygments_lexer": "ipython3",
   "version": "3.9.18"
  }
 },
 "nbformat": 4,
 "nbformat_minor": 5
}
