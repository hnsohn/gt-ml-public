{
 "cells": [
  {
   "cell_type": "markdown",
   "id": "3e95d094-a0ce-467a-9d50-26308034dd30",
   "metadata": {},
   "source": [
    "# CS 7641 Machine Learning\n",
    "# Assignment 2 Randomized Optimization\n",
    "\n",
    "## Four Peaks : SUMMARY"
   ]
  },
  {
   "cell_type": "code",
   "execution_count": 1,
   "id": "bf703a30-4892-4101-ae20-e0a7ca928e02",
   "metadata": {
    "tags": []
   },
   "outputs": [
    {
     "data": {
      "text/plain": [
       "'\\n네 가지 최적화 알고리즘(랜덤화 힐 클라이밍, 시뮬레이티드 어닐링, 유전 알고리즘, MIMIC) 중에서 Four Peaks 문제에 가장 적합한 알고리즘을 선택하는 것은 문제의 특성과 알고리즘의 작동 방식을 이해하는 것에 달려 있습니다. Four Peaks 문제는 탐색 공간에 여러 지역 최적해(local optima)가 있으며, 전역 최적해(global optimum)를 찾기 위해서는 이러한 지역 최적해를 넘어서 탐색할 수 있는 알고리즘이 필요합니다. 각 알고리즘의 특성을 고려해 보겠습니다.\\n\\n랜덤화 힐 클라이밍(Randomized Hill Climbing)\\n장점: 간단하고 빠르게 구현할 수 있습니다.\\n단점: 지역 최적해에 쉽게 갇혀 전역 최적해를 찾는 데 실패할 수 있습니다.\\n적합성: Four Peaks 문제에서는 여러 지역 최적해를 넘어서 전역 최적해를 찾기 어려울 수 있으므로, 이 알고리즘은 제한적일 수 있습니다.\\n\\n시뮬레이티드 어닐링(Simulated Annealing)\\n장점: 초기에는 고온에서 시작하여 무작위성을 허용함으로써 지역 최적해를 탈출할 가능성을 제공합니다.\\n단점: 적절한 냉각 일정과 매개변수 선택이 중요합니다.\\n적합성: 시뮬레이티드 어닐링은 초기의 높은 무작위성으로 인해 Four Peaks 문제와 같은 다중 최적해 문제에서 좋은 성능을 낼 수 있습니다. 지역 최적해를 넘어서 탐색할 수 있는 능력이 있기 때문입니다.\\n\\n유전 알고리즘(Genetic Algorithm)\\n장점: 다양한 해를 동시에 탐색하고, 교차와 돌연변이를 통해 해 공간의 다른 영역을 탐색할 수 있습니다.\\n단점: 매개변수 설정과 계산 비용이 높을 수 있습니다.\\n적합성: 유전 알고리즘은 해의 다양성을 유지하면서 복잡한 탐색 공간을 효과적으로 탐색할 수 있기 때문에, Four Peaks 문제와 같은 복잡한 최적화 문제에서 강력한 성능을 발휘할 수 있습니다.\\n\\nMIMIC\\n장점: 해 간의 상호 정보를 기반으로 하여 효율적으로 탐색 공간을 탐색합니다.\\n단점: 계산 비용이 매우 높을 수 있습니다.\\n적합성: MIMIC은 변수 간의 종속성을 이용하여 복잡한 탐색 공간을 효율적으로 탐색할 수 있으므로, Four Peaks 문제에서 좋은 성능을 낼 수 있습니다. 특히, 탐색 공간에 여러 최적해가 있을 때 유리할 수 있습니다.\\n결론적으로, Four Peaks 문제와 같이 여러 지역 최적해가 존재하는 복잡한 최적화 문제에서는 유전 알고리즘과 MIMIC이 더 적합할 수 있습니다. 이 알고리즘들은 다양한 해를 탐색하고, 지역 최적해를 넘어서 전역 최적해로 이동할 가능성이 더 높기 때문입니다. 유전 알고리즘은 해의 다양성을 유지하며 넓은 탐색 공간을 효과적으로 탐색할 수 있고, MIMIC은 변수 간의 상호 정보를 이용하여 효율적으로 탐색할 수 있습니다. 그러나 MIMIC의 계산 비용이 더 높다는 점을 고려해야 합니다. 따라서 특정 상황의 요구사항과 계산 자원을 고려하여 적합한 알고리즘을 선택하는 것이 중요합니다.\\n'"
      ]
     },
     "execution_count": 1,
     "metadata": {},
     "output_type": "execute_result"
    }
   ],
   "source": [
    "\"\"\"\n",
    "네 가지 최적화 알고리즘(랜덤화 힐 클라이밍, 시뮬레이티드 어닐링, 유전 알고리즘, MIMIC) 중에서 Four Peaks 문제에 가장 적합한 알고리즘을 선택하는 것은 문제의 특성과 알고리즘의 작동 방식을 이해하는 것에 달려 있습니다. Four Peaks 문제는 탐색 공간에 여러 지역 최적해(local optima)가 있으며, 전역 최적해(global optimum)를 찾기 위해서는 이러한 지역 최적해를 넘어서 탐색할 수 있는 알고리즘이 필요합니다. 각 알고리즘의 특성을 고려해 보겠습니다.\n",
    "\n",
    "랜덤화 힐 클라이밍(Randomized Hill Climbing)\n",
    "장점: 간단하고 빠르게 구현할 수 있습니다.\n",
    "단점: 지역 최적해에 쉽게 갇혀 전역 최적해를 찾는 데 실패할 수 있습니다.\n",
    "적합성: Four Peaks 문제에서는 여러 지역 최적해를 넘어서 전역 최적해를 찾기 어려울 수 있으므로, 이 알고리즘은 제한적일 수 있습니다.\n",
    "\n",
    "시뮬레이티드 어닐링(Simulated Annealing)\n",
    "장점: 초기에는 고온에서 시작하여 무작위성을 허용함으로써 지역 최적해를 탈출할 가능성을 제공합니다.\n",
    "단점: 적절한 냉각 일정과 매개변수 선택이 중요합니다.\n",
    "적합성: 시뮬레이티드 어닐링은 초기의 높은 무작위성으로 인해 Four Peaks 문제와 같은 다중 최적해 문제에서 좋은 성능을 낼 수 있습니다. 지역 최적해를 넘어서 탐색할 수 있는 능력이 있기 때문입니다.\n",
    "\n",
    "유전 알고리즘(Genetic Algorithm)\n",
    "장점: 다양한 해를 동시에 탐색하고, 교차와 돌연변이를 통해 해 공간의 다른 영역을 탐색할 수 있습니다.\n",
    "단점: 매개변수 설정과 계산 비용이 높을 수 있습니다.\n",
    "적합성: 유전 알고리즘은 해의 다양성을 유지하면서 복잡한 탐색 공간을 효과적으로 탐색할 수 있기 때문에, Four Peaks 문제와 같은 복잡한 최적화 문제에서 강력한 성능을 발휘할 수 있습니다.\n",
    "\n",
    "MIMIC\n",
    "장점: 해 간의 상호 정보를 기반으로 하여 효율적으로 탐색 공간을 탐색합니다.\n",
    "단점: 계산 비용이 매우 높을 수 있습니다.\n",
    "적합성: MIMIC은 변수 간의 종속성을 이용하여 복잡한 탐색 공간을 효율적으로 탐색할 수 있으므로, Four Peaks 문제에서 좋은 성능을 낼 수 있습니다. 특히, 탐색 공간에 여러 최적해가 있을 때 유리할 수 있습니다.\n",
    "결론적으로, Four Peaks 문제와 같이 여러 지역 최적해가 존재하는 복잡한 최적화 문제에서는 유전 알고리즘과 MIMIC이 더 적합할 수 있습니다. 이 알고리즘들은 다양한 해를 탐색하고, 지역 최적해를 넘어서 전역 최적해로 이동할 가능성이 더 높기 때문입니다. 유전 알고리즘은 해의 다양성을 유지하며 넓은 탐색 공간을 효과적으로 탐색할 수 있고, MIMIC은 변수 간의 상호 정보를 이용하여 효율적으로 탐색할 수 있습니다. 그러나 MIMIC의 계산 비용이 더 높다는 점을 고려해야 합니다. 따라서 특정 상황의 요구사항과 계산 자원을 고려하여 적합한 알고리즘을 선택하는 것이 중요합니다.\n",
    "\"\"\""
   ]
  },
  {
   "cell_type": "code",
   "execution_count": 2,
   "id": "e10c2746-8b52-4d0c-8cfa-d18e70788020",
   "metadata": {
    "tags": []
   },
   "outputs": [],
   "source": [
    "import mlrose_hiive\n",
    "import numpy as np\n",
    "import pandas as pd\n",
    "import time\n",
    "import random\n",
    "\n",
    "import matplotlib.pyplot as plt\n",
    "\n",
    "RANDOM_SEED = 27"
   ]
  },
  {
   "cell_type": "code",
   "execution_count": 3,
   "id": "c620aedc-f268-4c0a-b683-db1fa5dbbb25",
   "metadata": {
    "tags": []
   },
   "outputs": [],
   "source": [
    "num_items = 20\n",
    "random.seed(RANDOM_SEED)\n",
    "t_pct = 0.1 # default value: 0.1"
   ]
  },
  {
   "cell_type": "code",
   "execution_count": 4,
   "id": "246a060c-6688-4731-9d53-7db4292ecfda",
   "metadata": {
    "tags": []
   },
   "outputs": [],
   "source": [
    "fitness = mlrose_hiive.FourPeaks(t_pct)\n",
    "problem = mlrose_hiive.DiscreteOpt(length=num_items, fitness_fn=fitness, maximize=True, max_val=2)"
   ]
  },
  {
   "cell_type": "code",
   "execution_count": 5,
   "id": "de3473d4-1935-49ec-846a-2bdf3a270824",
   "metadata": {
    "tags": []
   },
   "outputs": [],
   "source": [
    "max_attempts = [ 1, 5, 10, 15, 20, 25, 30]\n",
    "\n",
    "blanks = [0 for i in range(len(max_attempts))]\n",
    "\n",
    "data = { \"Max_attempts\": max_attempts, \n",
    "        \"RHC\": blanks,\n",
    "        \"SA\": blanks, \n",
    "        \"GA\": blanks,\n",
    "        \"MIMIC\": blanks\n",
    "       }\n",
    "\n",
    "fitness_df = pd.DataFrame(data)\n",
    "duration_df = pd.DataFrame(data)"
   ]
  },
  {
   "cell_type": "code",
   "execution_count": 6,
   "id": "091b591a-d084-4d67-babb-8c1e650ce484",
   "metadata": {
    "tags": []
   },
   "outputs": [
    {
     "name": "stdout",
     "output_type": "stream",
     "text": [
      "max_attempt:  1 fitness_value:  26.0\n",
      "max_attempt:  5 fitness_value:  26.0\n",
      "max_attempt:  10 fitness_value:  37.0\n",
      "max_attempt:  15 fitness_value:  34.0\n",
      "max_attempt:  20 fitness_value:  35.0\n",
      "max_attempt:  25 fitness_value:  37.0\n",
      "max_attempt:  30 fitness_value:  37.0\n",
      "   Max_attempts  RHC  SA  GA  MIMIC\n",
      "0             1   26   0   0      0\n",
      "1             5   26   0   0      0\n",
      "2            10   37   0   0      0\n",
      "3            15   34   0   0      0\n",
      "4            20   35   0   0      0\n",
      "5            25   37   0   0      0\n",
      "6            30   37   0   0      0\n",
      "   Max_attempts       RHC  SA  GA  MIMIC\n",
      "0             1  0.007174   0   0      0\n",
      "1             5  0.005797   0   0      0\n",
      "2            10  0.006741   0   0      0\n",
      "3            15  0.009289   0   0      0\n",
      "4            20  0.013733   0   0      0\n",
      "5            25  0.011772   0   0      0\n",
      "6            30  0.012379   0   0      0\n"
     ]
    }
   ],
   "source": [
    "# Randomized Hill Climbing\n",
    "\n",
    "# best parameters\n",
    "max_iter = 200\n",
    "restart = 40\n",
    "\n",
    "#for max_iter in max_iters:\n",
    "for max_attempt in max_attempts:\n",
    "    start_time = time.perf_counter()\n",
    "    best_state, best_fitness, fitness_curve = mlrose_hiive.random_hill_climb(problem,\n",
    "                                                                             max_attempts = max_attempt,\n",
    "                                                                             max_iters = max_iter,\n",
    "                                                                             restarts = restart,\n",
    "                                                                             curve = False,\n",
    "                                                                             random_state=RANDOM_SEED)\n",
    "    duration_time = time.perf_counter() - start_time\n",
    "\n",
    "    fitness_df.loc[fitness_df[\"Max_attempts\"] == max_attempt, \"RHC\"] = best_fitness\n",
    "    duration_df.loc[duration_df[\"Max_attempts\"] == max_attempt, \"RHC\"] = duration_time\n",
    "    print(\"max_attempt: \", max_attempt, \"fitness_value: \", best_fitness)\n",
    "    \n",
    "    \n",
    "print(fitness_df)\n",
    "print(duration_df)"
   ]
  },
  {
   "cell_type": "code",
   "execution_count": 7,
   "id": "208aa174-4c50-4d30-a12d-11ac04454ed7",
   "metadata": {
    "tags": []
   },
   "outputs": [
    {
     "name": "stdout",
     "output_type": "stream",
     "text": [
      "max_attempt:  1 fitness_value:  2.0\n",
      "max_attempt:  5 fitness_value:  37.0\n",
      "max_attempt:  10 fitness_value:  37.0\n",
      "max_attempt:  15 fitness_value:  37.0\n",
      "max_attempt:  20 fitness_value:  37.0\n",
      "max_attempt:  25 fitness_value:  37.0\n",
      "max_attempt:  30 fitness_value:  37.0\n",
      "   Max_attempts  RHC  SA  GA  MIMIC\n",
      "0             1   26   2   0      0\n",
      "1             5   26  37   0      0\n",
      "2            10   37  37   0      0\n",
      "3            15   34  37   0      0\n",
      "4            20   35  37   0      0\n",
      "5            25   37  37   0      0\n",
      "6            30   37  37   0      0\n",
      "   Max_attempts       RHC        SA  GA  MIMIC\n",
      "0             1  0.007174  0.003065   0      0\n",
      "1             5  0.005797  0.006822   0      0\n",
      "2            10  0.006741  0.001107   0      0\n",
      "3            15  0.009289  0.001362   0      0\n",
      "4            20  0.013733  0.001066   0      0\n",
      "5            25  0.011772  0.001077   0      0\n",
      "6            30  0.012379  0.001685   0      0\n"
     ]
    }
   ],
   "source": [
    "# Simulated Annealing\n",
    "\n",
    "# best parameters\n",
    "max_iter = 200\n",
    "schedule = mlrose_hiive.ArithDecay()\n",
    "\n",
    "#for max_iter in max_iters:\n",
    "for max_attempt in max_attempts:\n",
    "    start_time = time.perf_counter()\n",
    "    best_state, best_fitness, fitness_curve = mlrose_hiive.simulated_annealing(problem,\n",
    "                                                                             max_attempts = max_attempt,\n",
    "                                                                             max_iters = max_iter,\n",
    "                                                                             schedule = schedule,\n",
    "                                                                             curve = False,\n",
    "                                                                             random_state=RANDOM_SEED)\n",
    "    duration_time = time.perf_counter() - start_time\n",
    "\n",
    "    #fitness_df.loc[fitness_df[\"Max_Iters\"] == max_iter, \"SA\"] = best_fitness\n",
    "    #duration_df.loc[duration_df[\"Max_Iters\"] == max_iter, \"SA\"] = duration_time\n",
    "    #print(\"max_iter: \", max_iter, \"fitness_value: \", best_fitness)\n",
    "    fitness_df.loc[fitness_df[\"Max_attempts\"] == max_attempt, \"SA\"] = best_fitness\n",
    "    duration_df.loc[duration_df[\"Max_attempts\"] == max_attempt, \"SA\"] = duration_time\n",
    "    print(\"max_attempt: \", max_attempt, \"fitness_value: \", best_fitness)\n",
    "\n",
    "    \n",
    "    \n",
    "print(fitness_df)\n",
    "print(duration_df)    "
   ]
  },
  {
   "cell_type": "code",
   "execution_count": 8,
   "id": "216fff7b-c349-4096-81dc-ef3eeb4c7f25",
   "metadata": {},
   "outputs": [
    {
     "name": "stdout",
     "output_type": "stream",
     "text": [
      "max_attempt:  1 fitness_value:  30.0\n",
      "max_attempt:  5 fitness_value:  30.0\n",
      "max_attempt:  10 fitness_value:  37.0\n",
      "max_attempt:  15 fitness_value:  37.0\n",
      "max_attempt:  20 fitness_value:  37.0\n",
      "max_attempt:  25 fitness_value:  37.0\n",
      "max_attempt:  30 fitness_value:  37.0\n",
      "   Max_attempts  RHC  SA  GA  MIMIC\n",
      "0             1   26   2  30      0\n",
      "1             5   26  37  30      0\n",
      "2            10   37  37  37      0\n",
      "3            15   34  37  37      0\n",
      "4            20   35  37  37      0\n",
      "5            25   37  37  37      0\n",
      "6            30   37  37  37      0\n",
      "   Max_attempts       RHC        SA        GA  MIMIC\n",
      "0             1  0.007174  0.003065  0.025886      0\n",
      "1             5  0.005797  0.006822  0.022806      0\n",
      "2            10  0.006741  0.001107  0.057441      0\n",
      "3            15  0.009289  0.001362  0.057560      0\n",
      "4            20  0.013733  0.001066  0.062516      0\n",
      "5            25  0.011772  0.001077  0.073249      0\n",
      "6            30  0.012379  0.001685  0.079288      0\n"
     ]
    }
   ],
   "source": [
    "# Genetic Algorithm\n",
    "\n",
    "# best parameters\n",
    "max_iter = 200\n",
    "mutation_prob = 0.05\n",
    "pop_size = 100\n",
    "\n",
    "for max_attempt in max_attempts:\n",
    "    start_time = time.perf_counter()\n",
    "    best_state, best_fitness, fitness_curve = mlrose_hiive.genetic_alg(problem,\n",
    "                                                                                     max_attempts = max_attempt,\n",
    "                                                                                     max_iters = max_iter,\n",
    "                                                                                     pop_size = pop_size,\n",
    "                                                                                     mutation_prob = mutation_prob, \n",
    "                                                                                     curve = False,\n",
    "                                                                                     random_state=RANDOM_SEED)\n",
    "    duration_time = time.perf_counter() - start_time\n",
    "    #fitness_df.loc[fitness_df[\"Max_Iters\"] == max_iter, \"GA\"] = best_fitness\n",
    "    #duration_df.loc[duration_df[\"Max_Iters\"] == max_iter, \"GA\"] = duration_time\n",
    "    fitness_df.loc[fitness_df[\"Max_attempts\"] == max_attempt, \"GA\"] = best_fitness\n",
    "    duration_df.loc[duration_df[\"Max_attempts\"] == max_attempt, \"GA\"] = duration_time\n",
    "    print(\"max_attempt: \", max_attempt, \"fitness_value: \", best_fitness)\n",
    "    \n",
    "    \n",
    "print(fitness_df)\n",
    "print(duration_df)    "
   ]
  },
  {
   "cell_type": "code",
   "execution_count": 9,
   "id": "27d27a36-5b96-4604-add2-c24ad9df9d81",
   "metadata": {
    "tags": []
   },
   "outputs": [
    {
     "name": "stdout",
     "output_type": "stream",
     "text": [
      "max_attempt:  1 fitness_value:  36.0\n",
      "max_attempt:  5 fitness_value:  37.0\n",
      "max_attempt:  10 fitness_value:  37.0\n",
      "max_attempt:  15 fitness_value:  37.0\n",
      "max_attempt:  20 fitness_value:  37.0\n",
      "max_attempt:  25 fitness_value:  37.0\n",
      "max_attempt:  30 fitness_value:  37.0\n",
      "   Max_attempts  RHC  SA  GA  MIMIC\n",
      "0             1   26   2  30     36\n",
      "1             5   26  37  30     37\n",
      "2            10   37  37  37     37\n",
      "3            15   34  37  37     37\n",
      "4            20   35  37  37     37\n",
      "5            25   37  37  37     37\n",
      "6            30   37  37  37     37\n",
      "   Max_attempts       RHC        SA        GA     MIMIC\n",
      "0             1  0.007174  0.003065  0.025886  0.291478\n",
      "1             5  0.005797  0.006822  0.022806  0.590715\n",
      "2            10  0.006741  0.001107  0.057441  0.875828\n",
      "3            15  0.009289  0.001362  0.057560  1.174758\n",
      "4            20  0.013733  0.001066  0.062516  1.478618\n",
      "5            25  0.011772  0.001077  0.073249  1.787409\n",
      "6            30  0.012379  0.001685  0.079288  2.078667\n"
     ]
    }
   ],
   "source": [
    "# MIMIC\n",
    "\n",
    "# best parameters\n",
    "max_iter = 200\n",
    "keep_pct = 0.1\n",
    "pop_size = 300\n",
    "\n",
    "#for max_iter in max_iters:\n",
    "for max_attempt in max_attempts:\n",
    "    start_time = time.perf_counter()\n",
    "    best_state, best_fitness, fitness_curve = mlrose_hiive.mimic(problem,\n",
    "                                                                             max_attempts = max_attempt,\n",
    "                                                                             max_iters = max_iter,\n",
    "                                                                             pop_size = pop_size,\n",
    "                                                                             keep_pct = keep_pct,\n",
    "                                                                             curve = False,\n",
    "                                                                             random_state=RANDOM_SEED)\n",
    "    duration_time = time.perf_counter() - start_time\n",
    "    #print(max_iter, best_fitness, duration_time)\n",
    "    #fitness_df.loc[fitness_df[\"Max_Iters\"] == max_iter, \"MIMIC\"] = best_fitness\n",
    "    #duration_df.loc[duration_df[\"Max_Iters\"] == max_iter, \"MIMIC\"] = duration_time\n",
    "    fitness_df.loc[fitness_df[\"Max_attempts\"] == max_attempt, \"MIMIC\"] = best_fitness\n",
    "    duration_df.loc[duration_df[\"Max_attempts\"] == max_attempt, \"MIMIC\"] = duration_time\n",
    "    print(\"max_attempt: \", max_attempt, \"fitness_value: \", best_fitness)\n",
    "     \n",
    "    \n",
    "print(fitness_df)\n",
    "print(duration_df)    "
   ]
  },
  {
   "cell_type": "code",
   "execution_count": 12,
   "id": "66addbbc-a983-453a-adf5-ec5e96d1df58",
   "metadata": {
    "tags": []
   },
   "outputs": [
    {
     "data": {
      "text/plain": [
       "<Figure size 640x480 with 0 Axes>"
      ]
     },
     "metadata": {},
     "output_type": "display_data"
    },
    {
     "data": {
      "image/png": "[encoded data removed]",
      "text/plain": [
       "<Figure size 640x480 with 1 Axes>"
      ]
     },
     "metadata": {},
     "output_type": "display_data"
    }
   ],
   "source": [
    "plt.style.use('default')\n",
    "plt.figure()\n",
    "\n",
    "fitness_df.plot(x='Max_attempts')\n",
    "plt.legend(loc='lower right')\n",
    "plt.xlabel('Max Attempts')\n",
    "plt.ylabel('Fitness Value')\n",
    "plt.ylim(0, 50)\n",
    "plt.title('Four Peaks Best Fitness')\n",
    "plt.grid(True)\n",
    "\n",
    "plt.show()"
   ]
  },
  {
   "cell_type": "code",
   "execution_count": 13,
   "id": "6a735e12-e01d-495c-a149-261edeecf770",
   "metadata": {
    "tags": []
   },
   "outputs": [
    {
     "data": {
      "text/plain": [
       "<Figure size 640x480 with 0 Axes>"
      ]
     },
     "metadata": {},
     "output_type": "display_data"
    },
    {
     "data": {
      "image/png": "[encoded data removed]",
      "text/plain": [
       "<Figure size 640x480 with 1 Axes>"
      ]
     },
     "metadata": {},
     "output_type": "display_data"
    }
   ],
   "source": [
    "plt.style.use('default')\n",
    "plt.figure()\n",
    "\n",
    "duration_df.plot(x='Max_attempts')\n",
    "plt.legend(loc='upper right')\n",
    "plt.xlabel('Max Attempts')\n",
    "plt.ylabel('Time')\n",
    "#plt.ylim(50, 100)\n",
    "plt.title('Four Peaks  Duration Time')\n",
    "plt.grid(True)\n",
    "\n",
    "plt.show()"
   ]
  },
  {
   "cell_type": "code",
   "execution_count": null,
   "id": "a93a677b-fd58-4fac-929d-ee970788884f",
   "metadata": {},
   "outputs": [],
   "source": []
  }
 ],
 "metadata": {
  "kernelspec": {
   "display_name": "Python 3 (ipykernel)",
   "language": "python",
   "name": "python3"
  },
  "language_info": {
   "codemirror_mode": {
    "name": "ipython",
    "version": 3
   },
   "file_extension": ".py",
   "mimetype": "text/x-python",
   "name": "python",
   "nbconvert_exporter": "python",
   "pygments_lexer": "ipython3",
   "version": "3.9.18"
  }
 },
 "nbformat": 4,
 "nbformat_minor": 5
}
