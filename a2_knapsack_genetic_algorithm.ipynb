{
 "cells": [
  {
   "cell_type": "markdown",
   "id": "3e95d094-a0ce-467a-9d50-26308034dd30",
   "metadata": {},
   "source": [
    "# CS 7641 Machine Learning\n",
    "# Assignment 2 Randomized Optimization\n",
    "\n",
    "## Knapsack : Genetic Algorithm"
   ]
  },
  {
   "cell_type": "code",
   "execution_count": 12,
   "id": "e10c2746-8b52-4d0c-8cfa-d18e70788020",
   "metadata": {
    "tags": []
   },
   "outputs": [],
   "source": [
    "import mlrose_hiive\n",
    "import numpy as np\n",
    "import pandas as pd\n",
    "import time\n",
    "import random\n",
    "\n",
    "import matplotlib.pyplot as plt\n",
    "\n",
    "RANDOM_SEED = 27"
   ]
  },
  {
   "cell_type": "code",
   "execution_count": 13,
   "id": "c620aedc-f268-4c0a-b683-db1fa5dbbb25",
   "metadata": {
    "tags": []
   },
   "outputs": [
    {
     "name": "stdout",
     "output_type": "stream",
     "text": [
      "weights:  [8, 5, 5, 4, 2, 2, 5, 9, 6, 5, 6, 7, 3, 4, 4, 8, 2, 10, 2, 10]\n",
      "values:  [7, 7, 1, 8, 6, 1, 8, 5, 3, 10, 6, 10, 4, 9, 3, 2, 7, 5, 1, 9]\n"
     ]
    }
   ],
   "source": [
    "num_items = 20\n",
    "\n",
    "random.seed(RANDOM_SEED)\n",
    "weights = [random.randint(1, 10) for _ in range(num_items)]\n",
    "values = [random.randint(1, 10) for _ in range(num_items)]\n",
    "print(\"weights: \", weights)\n",
    "print(\"values: \", values)\n",
    "max_weight_pct = 0.6"
   ]
  },
  {
   "cell_type": "code",
   "execution_count": 14,
   "id": "246a060c-6688-4731-9d53-7db4292ecfda",
   "metadata": {
    "tags": []
   },
   "outputs": [],
   "source": [
    "fitness = mlrose_hiive.Knapsack(weights, values, max_weight_pct)\n",
    "num_elements = len(weights)\n",
    "problem = mlrose_hiive.DiscreteOpt(length=num_elements, fitness_fn=fitness, maximize=True, max_val=2)"
   ]
  },
  {
   "cell_type": "code",
   "execution_count": 17,
   "id": "6fc8b6c6-eac1-4f1a-afdf-2a1f187fdcbf",
   "metadata": {
    "tags": []
   },
   "outputs": [
    {
     "name": "stdout",
     "output_type": "stream",
     "text": [
      "     max_attempts  max_iters  mutation_prob  pop_size  best_fitness  \\\n",
      "0             1.0      200.0           0.05     100.0          86.0   \n",
      "1             1.0      400.0           0.05     100.0          86.0   \n",
      "2             1.0      600.0           0.05     100.0          86.0   \n",
      "3             1.0      800.0           0.05     100.0          86.0   \n",
      "4             1.0     1000.0           0.05     100.0          86.0   \n",
      "..            ...        ...            ...       ...           ...   \n",
      "995          20.0     1200.0           0.40     500.0          94.0   \n",
      "996          20.0     1400.0           0.40     500.0          94.0   \n",
      "997          20.0     1600.0           0.40     500.0          94.0   \n",
      "998          20.0     1800.0           0.40     500.0          94.0   \n",
      "999          20.0     2000.0           0.40     500.0          94.0   \n",
      "\n",
      "     duration_time  \n",
      "0         0.034029  \n",
      "1         0.010025  \n",
      "2         0.010189  \n",
      "3         0.010540  \n",
      "4         0.010319  \n",
      "..             ...  \n",
      "995       0.354166  \n",
      "996       0.323496  \n",
      "997       0.327529  \n",
      "998       0.328549  \n",
      "999       0.325916  \n",
      "\n",
      "[1000 rows x 6 columns]\n",
      "Best Fitness: \n",
      " max_attempts       5.00000\n",
      "max_iters        200.00000\n",
      "mutation_prob      0.05000\n",
      "pop_size         100.00000\n",
      "best_fitness      94.00000\n",
      "duration_time      0.03535\n",
      "Name: 10, dtype: float64\n"
     ]
    }
   ],
   "source": [
    "results_column = [\"max_attempts\", \"max_iters\", \"mutation_prob\", \"pop_size\", \"best_fitness\", \"duration_time\"]\n",
    "results_list = []\n",
    "results_df = pd.DataFrame(columns=results_column)\n",
    "\n",
    "max_attempts = [ 1, 5, 10, 20]\n",
    "max_iters = [200, 400, 600, 800, 1000, 1200, 1400, 1600, 1800, 2000]\n",
    "pop_sizes = [100, 200, 300, 400, 500] #default: 200\n",
    "mutation_probs = [0.05, 0.1, 0.2, 0.3, 0.4] #default: 0.1\n",
    "\n",
    "for mutation_prob in mutation_probs: \n",
    "    for pop_size in pop_sizes:\n",
    "        for max_attempt in max_attempts:\n",
    "            for max_iter in max_iters:\n",
    "                start_time = time.perf_counter()\n",
    "                best_state, best_fitness, fitness_curve = mlrose_hiive.genetic_alg(problem,\n",
    "                                                                                     max_attempts = max_attempt,\n",
    "                                                                                     max_iters = max_iter,\n",
    "                                                                                     pop_size = pop_size,\n",
    "                                                                                     mutation_prob = mutation_prob, \n",
    "                                                                                     curve = False,\n",
    "                                                                                     random_state=RANDOM_SEED)\n",
    "                duration_time = time.perf_counter() - start_time            \n",
    "                results_df.loc[len(results_df.index)] = [max_attempt, max_iter, mutation_prob, pop_size, best_fitness, duration_time]\n",
    "\n",
    "print(results_df)\n",
    "print(\"Best Fitness: \\n\", results_df.loc[results_df['best_fitness'].idxmax()])        \n",
    "        "
   ]
  },
  {
   "cell_type": "code",
   "execution_count": null,
   "id": "216fff7b-c349-4096-81dc-ef3eeb4c7f25",
   "metadata": {},
   "outputs": [],
   "source": []
  }
 ],
 "metadata": {
  "kernelspec": {
   "display_name": "Python 3 (ipykernel)",
   "language": "python",
   "name": "python3"
  },
  "language_info": {
   "codemirror_mode": {
    "name": "ipython",
    "version": 3
   },
   "file_extension": ".py",
   "mimetype": "text/x-python",
   "name": "python",
   "nbconvert_exporter": "python",
   "pygments_lexer": "ipython3",
   "version": "3.9.18"
  }
 },
 "nbformat": 4,
 "nbformat_minor": 5
}
