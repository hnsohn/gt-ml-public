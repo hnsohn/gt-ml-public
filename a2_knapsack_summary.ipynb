{
 "cells": [
  {
   "cell_type": "markdown",
   "id": "3e95d094-a0ce-467a-9d50-26308034dd30",
   "metadata": {},
   "source": [
    "# CS 7641 Machine Learning\n",
    "# Assignment 2 Randomized Optimization\n",
    "\n",
    "## Knapsack : SUMMARY"
   ]
  },
  {
   "cell_type": "code",
   "execution_count": 1,
   "id": "bf703a30-4892-4101-ae20-e0a7ca928e02",
   "metadata": {
    "tags": []
   },
   "outputs": [
    {
     "data": {
      "text/plain": [
       "'\\nKnapsack 문제에 대한 최적의 알고리즘 선택은 문제의 특성, 문제의 크기, 그리고 특정 상황에 따라 달라질 수 있습니다. 각 알고리즘은 고유한 장단점을 가지며, 이러한 장단점은 알고리즘이 특정 문제를 얼마나 효과적으로 해결할 수 있는지에 영향을 미칩니다. 여기에 각 알고리즘에 대한 간략한 설명과 Knapsack 문제에 적합할 수 있는 이유를 정리해 보겠습니다.\\n\\nRandomized Hill Climbing\\n장점: 구현이 간단하며, 계산 비용이 낮습니다.\\n단점: 지역 최적해에 갇힐 위험이 높고, 큰 문제 공간에서는 비효율적일 수 있습니다.\\n적합성: 작은 문제나 단순한 문제 구조에서 유용할 수 있으나, Knapsack 문제와 같은 복잡한 문제에서는 최적의 해를 찾는 데 한계가 있을 수 있습니다.\\n\\nSimulated Annealing\\n장점: 초기 단계에서는 탐색 범위를 넓게 가져가 지역 최적해에서 벗어날 수 있는 기회를 제공합니다.\\n단점: 적절한 냉각 일정과 매개변수를 설정하는 것이 중요하며, 이는 때때로 어려울 수 있습니다.\\n적합성: 지역 최적해에서 벗어나 글로벌 최적해를 찾을 가능성이 있어, 복잡한 문제 공간을 가진 Knapsack 문제에 적합할 수 있습니다.\\n\\nGenetic Algorithm\\n장점: 다양한 해를 동시에 탐색하며, 교차와 돌연변이를 통해 해 공간을 넓게 탐색합니다.\\n단점: 비교적 많은 매개변수를 설정해야 하며, 계산 비용이 높을 수 있습니다.\\n적합성: 복잡하고 다차원적인 문제 공간을 가진 Knapsack 문제에서 다양한 해를 탐색할 수 있어 유리합니다. 특히, 대규모 문제에 적합할 수 있습니다.\\n\\nMIMIC (Mutual Information Maximizing Input Clustering)\\n장점: 해 간의 상호 정보를 이용하여 효율적으로 해 공간을 탐색합니다.\\n단점: 계산 비용이 매우 높을 수 있으며, 큰 문제에서는 시간이 오래 걸릴 수 있습니다.\\n적합성: 해의 종속성을 잘 모델링할 수 있어, 변수 간의 상호작용이 중요한 Knapsack 문제와 같은 복잡한 문제에서 강력한 성능을 발휘할 수 있습니다. 그러나 큰 규모의 문제에서는 계산 비용이 문제가 될 수 있습니다.\\n결론적으로, 최적의 알고리즘 선택은 문제의 크기, 해의 특성, 그리고 계산 비용 등 다양한 요소를 고려해야 합니다. 일반적으로 Genetic Algorithm과 MIMIC이 복잡한 Knapsack 문제를 해결하기 위한 더 나은 선택지를 제공할 가능성이 높습니다. 그러나 이들 알고리즘이 제공하는 더 넓은 탐색 능력과 더 높은 성공률은 더 많은 계산 비용을 요구한다는 점을 고려해야 합니다. 따라서, 특정 상황과 요구사항에 가장 적합한 알고리즘을 선택하는 것이 중요합니다.\\n'"
      ]
     },
     "execution_count": 1,
     "metadata": {},
     "output_type": "execute_result"
    }
   ],
   "source": [
    "\"\"\"\n",
    "Knapsack 문제에 대한 최적의 알고리즘 선택은 문제의 특성, 문제의 크기, 그리고 특정 상황에 따라 달라질 수 있습니다. 각 알고리즘은 고유한 장단점을 가지며, 이러한 장단점은 알고리즘이 특정 문제를 얼마나 효과적으로 해결할 수 있는지에 영향을 미칩니다. 여기에 각 알고리즘에 대한 간략한 설명과 Knapsack 문제에 적합할 수 있는 이유를 정리해 보겠습니다.\n",
    "\n",
    "Randomized Hill Climbing\n",
    "장점: 구현이 간단하며, 계산 비용이 낮습니다.\n",
    "단점: 지역 최적해에 갇힐 위험이 높고, 큰 문제 공간에서는 비효율적일 수 있습니다.\n",
    "적합성: 작은 문제나 단순한 문제 구조에서 유용할 수 있으나, Knapsack 문제와 같은 복잡한 문제에서는 최적의 해를 찾는 데 한계가 있을 수 있습니다.\n",
    "\n",
    "Simulated Annealing\n",
    "장점: 초기 단계에서는 탐색 범위를 넓게 가져가 지역 최적해에서 벗어날 수 있는 기회를 제공합니다.\n",
    "단점: 적절한 냉각 일정과 매개변수를 설정하는 것이 중요하며, 이는 때때로 어려울 수 있습니다.\n",
    "적합성: 지역 최적해에서 벗어나 글로벌 최적해를 찾을 가능성이 있어, 복잡한 문제 공간을 가진 Knapsack 문제에 적합할 수 있습니다.\n",
    "\n",
    "Genetic Algorithm\n",
    "장점: 다양한 해를 동시에 탐색하며, 교차와 돌연변이를 통해 해 공간을 넓게 탐색합니다.\n",
    "단점: 비교적 많은 매개변수를 설정해야 하며, 계산 비용이 높을 수 있습니다.\n",
    "적합성: 복잡하고 다차원적인 문제 공간을 가진 Knapsack 문제에서 다양한 해를 탐색할 수 있어 유리합니다. 특히, 대규모 문제에 적합할 수 있습니다.\n",
    "\n",
    "MIMIC (Mutual Information Maximizing Input Clustering)\n",
    "장점: 해 간의 상호 정보를 이용하여 효율적으로 해 공간을 탐색합니다.\n",
    "단점: 계산 비용이 매우 높을 수 있으며, 큰 문제에서는 시간이 오래 걸릴 수 있습니다.\n",
    "적합성: 해의 종속성을 잘 모델링할 수 있어, 변수 간의 상호작용이 중요한 Knapsack 문제와 같은 복잡한 문제에서 강력한 성능을 발휘할 수 있습니다. 그러나 큰 규모의 문제에서는 계산 비용이 문제가 될 수 있습니다.\n",
    "결론적으로, 최적의 알고리즘 선택은 문제의 크기, 해의 특성, 그리고 계산 비용 등 다양한 요소를 고려해야 합니다. 일반적으로 Genetic Algorithm과 MIMIC이 복잡한 Knapsack 문제를 해결하기 위한 더 나은 선택지를 제공할 가능성이 높습니다. 그러나 이들 알고리즘이 제공하는 더 넓은 탐색 능력과 더 높은 성공률은 더 많은 계산 비용을 요구한다는 점을 고려해야 합니다. 따라서, 특정 상황과 요구사항에 가장 적합한 알고리즘을 선택하는 것이 중요합니다.\n",
    "\"\"\""
   ]
  },
  {
   "cell_type": "code",
   "execution_count": 2,
   "id": "e10c2746-8b52-4d0c-8cfa-d18e70788020",
   "metadata": {
    "tags": []
   },
   "outputs": [],
   "source": [
    "import mlrose_hiive\n",
    "import numpy as np\n",
    "import pandas as pd\n",
    "import time\n",
    "import random\n",
    "\n",
    "import matplotlib.pyplot as plt\n",
    "\n",
    "RANDOM_SEED = 27"
   ]
  },
  {
   "cell_type": "code",
   "execution_count": 3,
   "id": "c620aedc-f268-4c0a-b683-db1fa5dbbb25",
   "metadata": {
    "tags": []
   },
   "outputs": [
    {
     "name": "stdout",
     "output_type": "stream",
     "text": [
      "weights:  [8, 5, 5, 4, 2, 2, 5, 9, 6, 5, 6, 7, 3, 4, 4, 8, 2, 10, 2, 10]\n",
      "values:  [7, 7, 1, 8, 6, 1, 8, 5, 3, 10, 6, 10, 4, 9, 3, 2, 7, 5, 1, 9]\n"
     ]
    }
   ],
   "source": [
    "num_items = 20\n",
    "\n",
    "random.seed(RANDOM_SEED)\n",
    "weights = [random.randint(1, 10) for _ in range(num_items)]\n",
    "values = [random.randint(1, 10) for _ in range(num_items)]\n",
    "print(\"weights: \", weights)\n",
    "print(\"values: \", values)\n",
    "max_weight_pct = 0.6"
   ]
  },
  {
   "cell_type": "code",
   "execution_count": 4,
   "id": "246a060c-6688-4731-9d53-7db4292ecfda",
   "metadata": {
    "tags": []
   },
   "outputs": [],
   "source": [
    "fitness = mlrose_hiive.Knapsack(weights, values, max_weight_pct)\n",
    "num_elements = len(weights)\n",
    "problem = mlrose_hiive.DiscreteOpt(length=num_elements, fitness_fn=fitness, maximize=True, max_val=2)"
   ]
  },
  {
   "cell_type": "code",
   "execution_count": 5,
   "id": "de3473d4-1935-49ec-846a-2bdf3a270824",
   "metadata": {
    "tags": []
   },
   "outputs": [],
   "source": [
    "#max_iters = [200, 400, 600, 800, 1000, 1200, 1400, 1600, 1800, 2000]\n",
    "max_attempts = [ 1, 5, 10, 15, 20, 25, 30]\n",
    "\n",
    "blanks = [0 for i in range(len(max_attempts))]\n",
    "\n",
    "data = { \"Max_attempts\": max_attempts, \n",
    "        \"RHC\": blanks,\n",
    "        \"SA\": blanks, \n",
    "        \"GA\": blanks,\n",
    "        \"MIMIC\": blanks\n",
    "       }\n",
    "\n",
    "fitness_df = pd.DataFrame(data)\n",
    "\n",
    "duration_df = pd.DataFrame(data)"
   ]
  },
  {
   "cell_type": "code",
   "execution_count": 6,
   "id": "091b591a-d084-4d67-babb-8c1e650ce484",
   "metadata": {
    "tags": []
   },
   "outputs": [
    {
     "name": "stdout",
     "output_type": "stream",
     "text": [
      "max_attempt:  1 fitness_value:  78.0\n",
      "max_attempt:  5 fitness_value:  72.0\n",
      "max_attempt:  10 fitness_value:  82.0\n",
      "max_attempt:  15 fitness_value:  84.0\n",
      "max_attempt:  20 fitness_value:  85.0\n",
      "max_attempt:  25 fitness_value:  79.0\n",
      "max_attempt:  30 fitness_value:  80.0\n",
      "   Max_attempts  RHC  SA  GA  MIMIC\n",
      "0             1   78   0   0      0\n",
      "1             5   72   0   0      0\n",
      "2            10   82   0   0      0\n",
      "3            15   84   0   0      0\n",
      "4            20   85   0   0      0\n",
      "5            25   79   0   0      0\n",
      "6            30   80   0   0      0\n",
      "   Max_attempts       RHC  SA  GA  MIMIC\n",
      "0             1  0.006308   0   0      0\n",
      "1             5  0.007370   0   0      0\n",
      "2            10  0.011842   0   0      0\n",
      "3            15  0.012585   0   0      0\n",
      "4            20  0.010739   0   0      0\n",
      "5            25  0.011736   0   0      0\n",
      "6            30  0.010797   0   0      0\n"
     ]
    }
   ],
   "source": [
    "# Randomized Hill Climbing\n",
    "\n",
    "# best parameters\n",
    "#max_attempt = 20 \n",
    "max_iter = 200\n",
    "restart = 20\n",
    "\n",
    "#for max_iter in max_iters:\n",
    "for max_attempt in max_attempts:\n",
    "    start_time = time.perf_counter()\n",
    "    best_state, best_fitness, fitness_curve = mlrose_hiive.random_hill_climb(problem,\n",
    "                                                                             max_attempts = max_attempt,\n",
    "                                                                             max_iters = max_iter,\n",
    "                                                                             restarts = restart,\n",
    "                                                                             curve = False,\n",
    "                                                                             random_state=RANDOM_SEED)\n",
    "    duration_time = time.perf_counter() - start_time\n",
    "\n",
    "    fitness_df.loc[fitness_df[\"Max_attempts\"] == max_attempt, \"RHC\"] = best_fitness\n",
    "    duration_df.loc[duration_df[\"Max_attempts\"] == max_attempt, \"RHC\"] = duration_time\n",
    "    print(\"max_attempt: \", max_attempt, \"fitness_value: \", best_fitness)\n",
    "    \n",
    "    \n",
    "print(fitness_df)\n",
    "print(duration_df)"
   ]
  },
  {
   "cell_type": "code",
   "execution_count": 7,
   "id": "208aa174-4c50-4d30-a12d-11ac04454ed7",
   "metadata": {
    "tags": []
   },
   "outputs": [
    {
     "name": "stdout",
     "output_type": "stream",
     "text": [
      "max_attempt:  1 fitness_value:  65.0\n",
      "max_attempt:  5 fitness_value:  72.0\n",
      "max_attempt:  10 fitness_value:  79.0\n",
      "max_attempt:  15 fitness_value:  79.0\n",
      "max_attempt:  20 fitness_value:  79.0\n",
      "max_attempt:  25 fitness_value:  79.0\n",
      "max_attempt:  30 fitness_value:  79.0\n",
      "   Max_attempts  RHC  SA  GA  MIMIC\n",
      "0             1   78  65   0      0\n",
      "1             5   72  72   0      0\n",
      "2            10   82  79   0      0\n",
      "3            15   84  79   0      0\n",
      "4            20   85  79   0      0\n",
      "5            25   79  79   0      0\n",
      "6            30   80  79   0      0\n",
      "   Max_attempts       RHC        SA  GA  MIMIC\n",
      "0             1  0.006308  0.001257   0      0\n",
      "1             5  0.007370  0.001231   0      0\n",
      "2            10  0.011842  0.002588   0      0\n",
      "3            15  0.012585  0.002254   0      0\n",
      "4            20  0.010739  0.002755   0      0\n",
      "5            25  0.011736  0.002600   0      0\n",
      "6            30  0.010797  0.001538   0      0\n"
     ]
    }
   ],
   "source": [
    "# Simulated Annealing\n",
    "\n",
    "# best parameters\n",
    "#max_attempt = 10 #(optimized value)\n",
    "max_iter = 200\n",
    "schedule = mlrose_hiive.ArithDecay()\n",
    "\n",
    "#for max_iter in max_iters:\n",
    "for max_attempt in max_attempts:\n",
    "    start_time = time.perf_counter()\n",
    "    best_state, best_fitness, fitness_curve = mlrose_hiive.simulated_annealing(problem,\n",
    "                                                                             max_attempts = max_attempt,\n",
    "                                                                             max_iters = max_iter,\n",
    "                                                                             schedule = schedule,\n",
    "                                                                             curve = False,\n",
    "                                                                             random_state=RANDOM_SEED)\n",
    "    duration_time = time.perf_counter() - start_time\n",
    "\n",
    "    #fitness_df.loc[fitness_df[\"Max_Iters\"] == max_iter, \"SA\"] = best_fitness\n",
    "    #duration_df.loc[duration_df[\"Max_Iters\"] == max_iter, \"SA\"] = duration_time\n",
    "    #print(\"max_iter: \", max_iter, \"fitness_value: \", best_fitness)\n",
    "    fitness_df.loc[fitness_df[\"Max_attempts\"] == max_attempt, \"SA\"] = best_fitness\n",
    "    duration_df.loc[duration_df[\"Max_attempts\"] == max_attempt, \"SA\"] = duration_time\n",
    "    print(\"max_attempt: \", max_attempt, \"fitness_value: \", best_fitness)\n",
    "\n",
    "    \n",
    "    \n",
    "print(fitness_df)\n",
    "print(duration_df)    "
   ]
  },
  {
   "cell_type": "code",
   "execution_count": 8,
   "id": "216fff7b-c349-4096-81dc-ef3eeb4c7f25",
   "metadata": {},
   "outputs": [
    {
     "name": "stdout",
     "output_type": "stream",
     "text": [
      "max_attempt:  1 fitness_value:  86.0\n",
      "max_attempt:  5 fitness_value:  94.0\n",
      "max_attempt:  10 fitness_value:  94.0\n",
      "max_attempt:  15 fitness_value:  94.0\n",
      "max_attempt:  20 fitness_value:  94.0\n",
      "max_attempt:  25 fitness_value:  94.0\n",
      "max_attempt:  30 fitness_value:  94.0\n",
      "   Max_attempts  RHC  SA  GA  MIMIC\n",
      "0             1   78  65  86      0\n",
      "1             5   72  72  94      0\n",
      "2            10   82  79  94      0\n",
      "3            15   84  79  94      0\n",
      "4            20   85  79  94      0\n",
      "5            25   79  79  94      0\n",
      "6            30   80  79  94      0\n",
      "   Max_attempts       RHC        SA        GA  MIMIC\n",
      "0             1  0.006308  0.001257  0.034937      0\n",
      "1             5  0.007370  0.001231  0.054959      0\n",
      "2            10  0.011842  0.002588  0.045087      0\n",
      "3            15  0.012585  0.002254  0.055333      0\n",
      "4            20  0.010739  0.002755  0.065531      0\n",
      "5            25  0.011736  0.002600  0.073215      0\n",
      "6            30  0.010797  0.001538  0.081772      0\n"
     ]
    }
   ],
   "source": [
    "# Genetic Algorithm\n",
    "\n",
    "# best parameters\n",
    "#max_attempt = 5 #(optimized value)\n",
    "#max_attempt = 5 \n",
    "max_iter = 200\n",
    "mutation_prob = 0.05\n",
    "pop_size = 100\n",
    "\n",
    "#for max_iter in max_iters:\n",
    "for max_attempt in max_attempts:\n",
    "    start_time = time.perf_counter()\n",
    "    best_state, best_fitness, fitness_curve = mlrose_hiive.genetic_alg(problem,\n",
    "                                                                                     max_attempts = max_attempt,\n",
    "                                                                                     max_iters = max_iter,\n",
    "                                                                                     pop_size = pop_size,\n",
    "                                                                                     mutation_prob = mutation_prob, \n",
    "                                                                                     curve = False,\n",
    "                                                                                     random_state=RANDOM_SEED)\n",
    "    duration_time = time.perf_counter() - start_time\n",
    "    #fitness_df.loc[fitness_df[\"Max_Iters\"] == max_iter, \"GA\"] = best_fitness\n",
    "    #duration_df.loc[duration_df[\"Max_Iters\"] == max_iter, \"GA\"] = duration_time\n",
    "    fitness_df.loc[fitness_df[\"Max_attempts\"] == max_attempt, \"GA\"] = best_fitness\n",
    "    duration_df.loc[duration_df[\"Max_attempts\"] == max_attempt, \"GA\"] = duration_time\n",
    "    print(\"max_attempt: \", max_attempt, \"fitness_value: \", best_fitness)\n",
    "    \n",
    "    \n",
    "print(fitness_df)\n",
    "print(duration_df)    "
   ]
  },
  {
   "cell_type": "code",
   "execution_count": 9,
   "id": "27d27a36-5b96-4604-add2-c24ad9df9d81",
   "metadata": {
    "tags": []
   },
   "outputs": [
    {
     "name": "stdout",
     "output_type": "stream",
     "text": [
      "max_attempt:  1 fitness_value:  92.0\n",
      "max_attempt:  5 fitness_value:  94.0\n",
      "max_attempt:  10 fitness_value:  94.0\n",
      "max_attempt:  15 fitness_value:  94.0\n",
      "max_attempt:  20 fitness_value:  94.0\n",
      "max_attempt:  25 fitness_value:  94.0\n",
      "max_attempt:  30 fitness_value:  94.0\n",
      "   Max_attempts  RHC  SA  GA  MIMIC\n",
      "0             1   78  65  86     92\n",
      "1             5   72  72  94     94\n",
      "2            10   82  79  94     94\n",
      "3            15   84  79  94     94\n",
      "4            20   85  79  94     94\n",
      "5            25   79  79  94     94\n",
      "6            30   80  79  94     94\n",
      "   Max_attempts       RHC        SA        GA     MIMIC\n",
      "0             1  0.006308  0.001257  0.034937  0.297538\n",
      "1             5  0.007370  0.001231  0.054959  0.557575\n",
      "2            10  0.011842  0.002588  0.045087  1.184905\n",
      "3            15  0.012585  0.002254  0.055333  1.610116\n",
      "4            20  0.010739  0.002755  0.065531  1.499955\n",
      "5            25  0.011736  0.002600  0.073215  1.800677\n",
      "6            30  0.010797  0.001538  0.081772  2.154094\n"
     ]
    }
   ],
   "source": [
    "# MIMIC\n",
    "\n",
    "# best parameters\n",
    "#max_attempt = 5 #(optimized value)\n",
    "#max_attempt = 5 \n",
    "max_iter = 200\n",
    "keep_pct = 0.1\n",
    "pop_size = 400\n",
    "\n",
    "#for max_iter in max_iters:\n",
    "for max_attempt in max_attempts:\n",
    "    start_time = time.perf_counter()\n",
    "    best_state, best_fitness, fitness_curve = mlrose_hiive.mimic(problem,\n",
    "                                                                             max_attempts = max_attempt,\n",
    "                                                                             max_iters = max_iter,\n",
    "                                                                             pop_size = pop_size,\n",
    "                                                                             keep_pct = keep_pct,\n",
    "                                                                             curve = False,\n",
    "                                                                             random_state=RANDOM_SEED)\n",
    "    duration_time = time.perf_counter() - start_time\n",
    "    #print(max_iter, best_fitness, duration_time)\n",
    "    #fitness_df.loc[fitness_df[\"Max_Iters\"] == max_iter, \"MIMIC\"] = best_fitness\n",
    "    #duration_df.loc[duration_df[\"Max_Iters\"] == max_iter, \"MIMIC\"] = duration_time\n",
    "    fitness_df.loc[fitness_df[\"Max_attempts\"] == max_attempt, \"MIMIC\"] = best_fitness\n",
    "    duration_df.loc[duration_df[\"Max_attempts\"] == max_attempt, \"MIMIC\"] = duration_time\n",
    "    print(\"max_attempt: \", max_attempt, \"fitness_value: \", best_fitness)\n",
    "     \n",
    "    \n",
    "print(fitness_df)\n",
    "print(duration_df)    "
   ]
  },
  {
   "cell_type": "code",
   "execution_count": 11,
   "id": "66addbbc-a983-453a-adf5-ec5e96d1df58",
   "metadata": {
    "tags": []
   },
   "outputs": [
    {
     "data": {
      "text/plain": [
       "<Figure size 640x480 with 0 Axes>"
      ]
     },
     "metadata": {},
     "output_type": "display_data"
    },
    {
     "data": {
      "image/png": "[encoded data removed]",
      "text/plain": [
       "<Figure size 640x480 with 1 Axes>"
      ]
     },
     "metadata": {},
     "output_type": "display_data"
    }
   ],
   "source": [
    "plt.style.use('default')\n",
    "plt.figure()\n",
    "\n",
    "fitness_df.plot(x='Max_attempts')\n",
    "plt.legend(loc='lower right')\n",
    "plt.xlabel('Max Attempts')\n",
    "plt.ylabel('Fitness Value')\n",
    "plt.ylim(50, 100)\n",
    "plt.title('Knapsack Best Fitness')\n",
    "plt.grid(True)\n",
    "\n",
    "plt.show()"
   ]
  },
  {
   "cell_type": "code",
   "execution_count": 13,
   "id": "6a735e12-e01d-495c-a149-261edeecf770",
   "metadata": {
    "tags": []
   },
   "outputs": [
    {
     "data": {
      "text/plain": [
       "<Figure size 640x480 with 0 Axes>"
      ]
     },
     "metadata": {},
     "output_type": "display_data"
    },
    {
     "data": {
      "image/png": "[encoded data removed]",
      "text/plain": [
       "<Figure size 640x480 with 1 Axes>"
      ]
     },
     "metadata": {},
     "output_type": "display_data"
    }
   ],
   "source": [
    "plt.style.use('default')\n",
    "plt.figure()\n",
    "\n",
    "duration_df.plot(x='Max_attempts')\n",
    "plt.legend(loc='upper right')\n",
    "plt.xlabel('Max Attempts')\n",
    "plt.ylabel('Time')\n",
    "#plt.ylim(50, 100)\n",
    "plt.title('Knapsack Duration Time')\n",
    "plt.grid(True)\n",
    "\n",
    "plt.show()"
   ]
  },
  {
   "cell_type": "code",
   "execution_count": null,
   "id": "a93a677b-fd58-4fac-929d-ee970788884f",
   "metadata": {},
   "outputs": [],
   "source": []
  }
 ],
 "metadata": {
  "kernelspec": {
   "display_name": "Python 3 (ipykernel)",
   "language": "python",
   "name": "python3"
  },
  "language_info": {
   "codemirror_mode": {
    "name": "ipython",
    "version": 3
   },
   "file_extension": ".py",
   "mimetype": "text/x-python",
   "name": "python",
   "nbconvert_exporter": "python",
   "pygments_lexer": "ipython3",
   "version": "3.9.18"
  }
 },
 "nbformat": 4,
 "nbformat_minor": 5
}
